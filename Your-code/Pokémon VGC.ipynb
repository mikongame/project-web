{
 "cells": [
  {
   "cell_type": "markdown",
   "metadata": {},
   "source": [
    "<img src=\"https://bit.ly/2VnXWr2\" width=\"100\" align=\"left\">"
   ]
  },
  {
   "cell_type": "markdown",
   "metadata": {},
   "source": [
    "# Project | API and Web Data Scraping"
   ]
  },
  {
   "cell_type": "markdown",
   "metadata": {},
   "source": [
    "## Import Useful Libraries"
   ]
  },
  {
   "cell_type": "code",
   "execution_count": 70,
   "metadata": {},
   "outputs": [],
   "source": [
    "import os\n",
    "import numpy as np\n",
    "import pandas as pd\n",
    "import random\n",
    "import operator\n",
    "import re\n",
    "import math\n",
    "import matplotlib.pyplot as plt\n",
    "from matplotlib import cm\n",
    "import json\n",
    "import requests\n",
    "from pandas.io.json import json_normalize\n",
    "from bs4 import BeautifulSoup\n",
    "import pypokedex\n",
    "from pprint import pprint\n",
    "from lxml import html\n",
    "from lxml.html import fromstring\n",
    "import urllib.request\n",
    "from urllib.request import urlopen\n",
    "import scrapy"
   ]
  },
  {
   "cell_type": "markdown",
   "metadata": {},
   "source": [
    "## Working On The API"
   ]
  },
  {
   "cell_type": "code",
   "execution_count": 71,
   "metadata": {},
   "outputs": [],
   "source": [
    "url = \"https://pikalytics.com/api/p/2020-01/ss-1760\"\n",
    "\n",
    "headers = {\"User-Agent\": \"Mozilla/5.0 (Windows NT 10.0; Win64; x64) AppleWebKit/537.36 (KHTML, like Gecko) Chrome/79.0.3945.130 Safari/537.36\"}\n",
    "\n",
    "response = requests.get(url, headers = headers) \n",
    "results = response.json()\n",
    "flattened_data = json_normalize(results)\n",
    "pikalyticsDF = flattened_data"
   ]
  },
  {
   "cell_type": "code",
   "execution_count": 72,
   "metadata": {},
   "outputs": [],
   "source": [
    "pd.set_option('display.max_rows', None)\n",
    "pd.set_option('display.max_columns', None)\n",
    "pd.set_option('display.max_colwidth', -1)"
   ]
  },
  {
   "cell_type": "code",
   "execution_count": 73,
   "metadata": {},
   "outputs": [
    {
     "data": {
      "text/html": [
       "<div>\n",
       "<style scoped>\n",
       "    .dataframe tbody tr th:only-of-type {\n",
       "        vertical-align: middle;\n",
       "    }\n",
       "\n",
       "    .dataframe tbody tr th {\n",
       "        vertical-align: top;\n",
       "    }\n",
       "\n",
       "    .dataframe thead th {\n",
       "        text-align: right;\n",
       "    }\n",
       "</style>\n",
       "<table border=\"1\" class=\"dataframe\">\n",
       "  <thead>\n",
       "    <tr style=\"text-align: right;\">\n",
       "      <th></th>\n",
       "      <th>name</th>\n",
       "      <th>types</th>\n",
       "      <th>percent</th>\n",
       "      <th>ranking</th>\n",
       "      <th>viability</th>\n",
       "      <th>team</th>\n",
       "    </tr>\n",
       "  </thead>\n",
       "  <tbody>\n",
       "    <tr>\n",
       "      <td>0</td>\n",
       "      <td>Togekiss</td>\n",
       "      <td>[fairy, flying]</td>\n",
       "      <td>46.0</td>\n",
       "      <td>1</td>\n",
       "      <td>B</td>\n",
       "      <td>[{'pokemon': 'Excadrill', 'percent': '38.536', 'types': ['ground', 'steel']}, {'pokemon': 'Arcanine', 'percent': '35.593', 'types': ['fire']}, {'pokemon': 'Dragapult', 'percent': '33.117', 'types': ['dragon', 'ghost']}, {'pokemon': 'Tyranitar', 'percent': '25.192', 'types': ['rock', 'dark']}, {'pokemon': 'Whimsicott', 'percent': '21.162', 'types': ['grass', 'fairy']}, {'pokemon': 'Gyarados', 'percent': '16.886', 'types': ['water', 'flying']}, {'pokemon': 'Duraludon', 'percent': '16.087', 'types': ['steel', 'dragon']}, {'pokemon': 'Rhyperior', 'percent': '15.737', 'types': ['ground', 'rock']}, {'pokemon': 'Gastrodon', 'percent': '14.598', 'types': ['water', 'ground']}, {'pokemon': 'Conkeldurr', 'percent': '14.553', 'types': ['fighting']}]</td>\n",
       "    </tr>\n",
       "    <tr>\n",
       "      <td>1</td>\n",
       "      <td>Arcanine</td>\n",
       "      <td>[fire]</td>\n",
       "      <td>36.0</td>\n",
       "      <td>2</td>\n",
       "      <td>B</td>\n",
       "      <td>[{'pokemon': 'Togekiss', 'percent': '45.687', 'types': ['fairy', 'flying']}, {'pokemon': 'Dragapult', 'percent': '30.663', 'types': ['dragon', 'ghost']}, {'pokemon': 'Tyranitar', 'percent': '28.847', 'types': ['rock', 'dark']}, {'pokemon': 'Duraludon', 'percent': '27.120', 'types': ['steel', 'dragon']}, {'pokemon': 'Excadrill', 'percent': '25.730', 'types': ['ground', 'steel']}, {'pokemon': 'Grimmsnarl', 'percent': '24.526', 'types': ['dark', 'fairy']}, {'pokemon': 'Whimsicott', 'percent': '21.763', 'types': ['grass', 'fairy']}, {'pokemon': 'Gastrodon', 'percent': '19.336', 'types': ['water', 'ground']}, {'pokemon': 'Rotom-Mow', 'percent': '16.678', 'types': ['electric', 'grass']}, {'pokemon': 'Gyarados', 'percent': '15.125', 'types': ['water', 'flying']}]</td>\n",
       "    </tr>\n",
       "    <tr>\n",
       "      <td>2</td>\n",
       "      <td>Dragapult</td>\n",
       "      <td>[dragon, ghost]</td>\n",
       "      <td>31.0</td>\n",
       "      <td>3</td>\n",
       "      <td>B</td>\n",
       "      <td>[{'pokemon': 'Togekiss', 'percent': '48.228', 'types': ['fairy', 'flying']}, {'pokemon': 'Excadrill', 'percent': '38.133', 'types': ['ground', 'steel']}, {'pokemon': 'Arcanine', 'percent': '34.788', 'types': ['fire']}, {'pokemon': 'Tyranitar', 'percent': '22.340', 'types': ['rock', 'dark']}, {'pokemon': 'Whimsicott', 'percent': '21.628', 'types': ['grass', 'fairy']}, {'pokemon': 'Gyarados', 'percent': '17.180', 'types': ['water', 'flying']}, {'pokemon': 'Grimmsnarl', 'percent': '16.063', 'types': ['dark', 'fairy']}, {'pokemon': 'Gastrodon', 'percent': '14.782', 'types': ['water', 'ground']}, {'pokemon': 'Rotom-Wash', 'percent': '13.061', 'types': ['electric', 'water']}, {'pokemon': 'Rhyperior', 'percent': '12.991', 'types': ['ground', 'rock']}]</td>\n",
       "    </tr>\n",
       "  </tbody>\n",
       "</table>\n",
       "</div>"
      ],
      "text/plain": [
       "        name            types  percent ranking viability  \\\n",
       "0  Togekiss   [fairy, flying]  46.0     1       B          \n",
       "1  Arcanine   [fire]           36.0     2       B          \n",
       "2  Dragapult  [dragon, ghost]  31.0     3       B          \n",
       "\n",
       "                                                                                                                                                                                                                                                                                                                                                                                                                                                                                                                                                                                                                                                                                                                                                                                             team  \n",
       "0  [{'pokemon': 'Excadrill', 'percent': '38.536', 'types': ['ground', 'steel']}, {'pokemon': 'Arcanine', 'percent': '35.593', 'types': ['fire']}, {'pokemon': 'Dragapult', 'percent': '33.117', 'types': ['dragon', 'ghost']}, {'pokemon': 'Tyranitar', 'percent': '25.192', 'types': ['rock', 'dark']}, {'pokemon': 'Whimsicott', 'percent': '21.162', 'types': ['grass', 'fairy']}, {'pokemon': 'Gyarados', 'percent': '16.886', 'types': ['water', 'flying']}, {'pokemon': 'Duraludon', 'percent': '16.087', 'types': ['steel', 'dragon']}, {'pokemon': 'Rhyperior', 'percent': '15.737', 'types': ['ground', 'rock']}, {'pokemon': 'Gastrodon', 'percent': '14.598', 'types': ['water', 'ground']}, {'pokemon': 'Conkeldurr', 'percent': '14.553', 'types': ['fighting']}]                     \n",
       "1  [{'pokemon': 'Togekiss', 'percent': '45.687', 'types': ['fairy', 'flying']}, {'pokemon': 'Dragapult', 'percent': '30.663', 'types': ['dragon', 'ghost']}, {'pokemon': 'Tyranitar', 'percent': '28.847', 'types': ['rock', 'dark']}, {'pokemon': 'Duraludon', 'percent': '27.120', 'types': ['steel', 'dragon']}, {'pokemon': 'Excadrill', 'percent': '25.730', 'types': ['ground', 'steel']}, {'pokemon': 'Grimmsnarl', 'percent': '24.526', 'types': ['dark', 'fairy']}, {'pokemon': 'Whimsicott', 'percent': '21.763', 'types': ['grass', 'fairy']}, {'pokemon': 'Gastrodon', 'percent': '19.336', 'types': ['water', 'ground']}, {'pokemon': 'Rotom-Mow', 'percent': '16.678', 'types': ['electric', 'grass']}, {'pokemon': 'Gyarados', 'percent': '15.125', 'types': ['water', 'flying']}]  \n",
       "2  [{'pokemon': 'Togekiss', 'percent': '48.228', 'types': ['fairy', 'flying']}, {'pokemon': 'Excadrill', 'percent': '38.133', 'types': ['ground', 'steel']}, {'pokemon': 'Arcanine', 'percent': '34.788', 'types': ['fire']}, {'pokemon': 'Tyranitar', 'percent': '22.340', 'types': ['rock', 'dark']}, {'pokemon': 'Whimsicott', 'percent': '21.628', 'types': ['grass', 'fairy']}, {'pokemon': 'Gyarados', 'percent': '17.180', 'types': ['water', 'flying']}, {'pokemon': 'Grimmsnarl', 'percent': '16.063', 'types': ['dark', 'fairy']}, {'pokemon': 'Gastrodon', 'percent': '14.782', 'types': ['water', 'ground']}, {'pokemon': 'Rotom-Wash', 'percent': '13.061', 'types': ['electric', 'water']}, {'pokemon': 'Rhyperior', 'percent': '12.991', 'types': ['ground', 'rock']}]              "
      ]
     },
     "execution_count": 73,
     "metadata": {},
     "output_type": "execute_result"
    }
   ],
   "source": [
    "pikalyticsDF = pikalyticsDF.drop(['abilities', 'raw_count', 'items', 'spreads', 'moves', 'stats.hp',\n",
    "       'stats.atk', 'stats.def', 'stats.spa', 'stats.spd', 'stats.spe', 'ss'], axis=1)\n",
    "pikalyticsDF.head(3)"
   ]
  },
  {
   "cell_type": "code",
   "execution_count": 74,
   "metadata": {},
   "outputs": [],
   "source": [
    "teams = pikalyticsDF[\"team\"].tolist()"
   ]
  },
  {
   "cell_type": "code",
   "execution_count": 75,
   "metadata": {},
   "outputs": [],
   "source": [
    "teamsDF = pd.DataFrame(teams)"
   ]
  },
  {
   "cell_type": "code",
   "execution_count": 76,
   "metadata": {},
   "outputs": [],
   "source": [
    "teamsDF = teamsDF.drop([3,4,5,6,7,8,9,10,11], axis=1)"
   ]
  },
  {
   "cell_type": "code",
   "execution_count": 77,
   "metadata": {},
   "outputs": [
    {
     "data": {
      "text/html": [
       "<div>\n",
       "<style scoped>\n",
       "    .dataframe tbody tr th:only-of-type {\n",
       "        vertical-align: middle;\n",
       "    }\n",
       "\n",
       "    .dataframe tbody tr th {\n",
       "        vertical-align: top;\n",
       "    }\n",
       "\n",
       "    .dataframe thead th {\n",
       "        text-align: right;\n",
       "    }\n",
       "</style>\n",
       "<table border=\"1\" class=\"dataframe\">\n",
       "  <thead>\n",
       "    <tr style=\"text-align: right;\">\n",
       "      <th></th>\n",
       "      <th>0</th>\n",
       "      <th>1</th>\n",
       "      <th>2</th>\n",
       "    </tr>\n",
       "  </thead>\n",
       "  <tbody>\n",
       "    <tr>\n",
       "      <td>0</td>\n",
       "      <td>{'pokemon': 'Excadrill', 'percent': '38.536', 'types': ['ground', 'steel']}</td>\n",
       "      <td>{'pokemon': 'Arcanine', 'percent': '35.593', 'types': ['fire']}</td>\n",
       "      <td>{'pokemon': 'Dragapult', 'percent': '33.117', 'types': ['dragon', 'ghost']}</td>\n",
       "    </tr>\n",
       "    <tr>\n",
       "      <td>1</td>\n",
       "      <td>{'pokemon': 'Togekiss', 'percent': '45.687', 'types': ['fairy', 'flying']}</td>\n",
       "      <td>{'pokemon': 'Dragapult', 'percent': '30.663', 'types': ['dragon', 'ghost']}</td>\n",
       "      <td>{'pokemon': 'Tyranitar', 'percent': '28.847', 'types': ['rock', 'dark']}</td>\n",
       "    </tr>\n",
       "    <tr>\n",
       "      <td>2</td>\n",
       "      <td>{'pokemon': 'Togekiss', 'percent': '48.228', 'types': ['fairy', 'flying']}</td>\n",
       "      <td>{'pokemon': 'Excadrill', 'percent': '38.133', 'types': ['ground', 'steel']}</td>\n",
       "      <td>{'pokemon': 'Arcanine', 'percent': '34.788', 'types': ['fire']}</td>\n",
       "    </tr>\n",
       "    <tr>\n",
       "      <td>3</td>\n",
       "      <td>{'pokemon': 'Togekiss', 'percent': '59.572', 'types': ['fairy', 'flying']}</td>\n",
       "      <td>{'pokemon': 'Tyranitar', 'percent': '47.122', 'types': ['rock', 'dark']}</td>\n",
       "      <td>{'pokemon': 'Dragapult', 'percent': '40.479', 'types': ['dragon', 'ghost']}</td>\n",
       "    </tr>\n",
       "    <tr>\n",
       "      <td>4</td>\n",
       "      <td>{'pokemon': 'Duraludon', 'percent': '36.074', 'types': ['steel', 'dragon']}</td>\n",
       "      <td>{'pokemon': 'Togekiss', 'percent': '32.431', 'types': ['fairy', 'flying']}</td>\n",
       "      <td>{'pokemon': 'Arcanine', 'percent': '25.983', 'types': ['fire']}</td>\n",
       "    </tr>\n",
       "  </tbody>\n",
       "</table>\n",
       "</div>"
      ],
      "text/plain": [
       "                                                                             0  \\\n",
       "0  {'pokemon': 'Excadrill', 'percent': '38.536', 'types': ['ground', 'steel']}   \n",
       "1  {'pokemon': 'Togekiss', 'percent': '45.687', 'types': ['fairy', 'flying']}    \n",
       "2  {'pokemon': 'Togekiss', 'percent': '48.228', 'types': ['fairy', 'flying']}    \n",
       "3  {'pokemon': 'Togekiss', 'percent': '59.572', 'types': ['fairy', 'flying']}    \n",
       "4  {'pokemon': 'Duraludon', 'percent': '36.074', 'types': ['steel', 'dragon']}   \n",
       "\n",
       "                                                                             1  \\\n",
       "0  {'pokemon': 'Arcanine', 'percent': '35.593', 'types': ['fire']}               \n",
       "1  {'pokemon': 'Dragapult', 'percent': '30.663', 'types': ['dragon', 'ghost']}   \n",
       "2  {'pokemon': 'Excadrill', 'percent': '38.133', 'types': ['ground', 'steel']}   \n",
       "3  {'pokemon': 'Tyranitar', 'percent': '47.122', 'types': ['rock', 'dark']}      \n",
       "4  {'pokemon': 'Togekiss', 'percent': '32.431', 'types': ['fairy', 'flying']}    \n",
       "\n",
       "                                                                             2  \n",
       "0  {'pokemon': 'Dragapult', 'percent': '33.117', 'types': ['dragon', 'ghost']}  \n",
       "1  {'pokemon': 'Tyranitar', 'percent': '28.847', 'types': ['rock', 'dark']}     \n",
       "2  {'pokemon': 'Arcanine', 'percent': '34.788', 'types': ['fire']}              \n",
       "3  {'pokemon': 'Dragapult', 'percent': '40.479', 'types': ['dragon', 'ghost']}  \n",
       "4  {'pokemon': 'Arcanine', 'percent': '25.983', 'types': ['fire']}              "
      ]
     },
     "execution_count": 77,
     "metadata": {},
     "output_type": "execute_result"
    }
   ],
   "source": [
    "teamsDF.head(5)"
   ]
  },
  {
   "cell_type": "code",
   "execution_count": 78,
   "metadata": {},
   "outputs": [
    {
     "data": {
      "text/html": [
       "<div>\n",
       "<style scoped>\n",
       "    .dataframe tbody tr th:only-of-type {\n",
       "        vertical-align: middle;\n",
       "    }\n",
       "\n",
       "    .dataframe tbody tr th {\n",
       "        vertical-align: top;\n",
       "    }\n",
       "\n",
       "    .dataframe thead th {\n",
       "        text-align: right;\n",
       "    }\n",
       "</style>\n",
       "<table border=\"1\" class=\"dataframe\">\n",
       "  <thead>\n",
       "    <tr style=\"text-align: right;\">\n",
       "      <th></th>\n",
       "      <th>Most common teammate</th>\n",
       "      <th>2nd most common teammate</th>\n",
       "      <th>3rd most common teammate</th>\n",
       "    </tr>\n",
       "  </thead>\n",
       "  <tbody>\n",
       "    <tr>\n",
       "      <td>0</td>\n",
       "      <td>{'pokemon': 'Excadrill', 'percent': '38.536', 'types': ['ground', 'steel']}</td>\n",
       "      <td>{'pokemon': 'Arcanine', 'percent': '35.593', 'types': ['fire']}</td>\n",
       "      <td>{'pokemon': 'Dragapult', 'percent': '33.117', 'types': ['dragon', 'ghost']}</td>\n",
       "    </tr>\n",
       "    <tr>\n",
       "      <td>1</td>\n",
       "      <td>{'pokemon': 'Togekiss', 'percent': '45.687', 'types': ['fairy', 'flying']}</td>\n",
       "      <td>{'pokemon': 'Dragapult', 'percent': '30.663', 'types': ['dragon', 'ghost']}</td>\n",
       "      <td>{'pokemon': 'Tyranitar', 'percent': '28.847', 'types': ['rock', 'dark']}</td>\n",
       "    </tr>\n",
       "    <tr>\n",
       "      <td>2</td>\n",
       "      <td>{'pokemon': 'Togekiss', 'percent': '48.228', 'types': ['fairy', 'flying']}</td>\n",
       "      <td>{'pokemon': 'Excadrill', 'percent': '38.133', 'types': ['ground', 'steel']}</td>\n",
       "      <td>{'pokemon': 'Arcanine', 'percent': '34.788', 'types': ['fire']}</td>\n",
       "    </tr>\n",
       "    <tr>\n",
       "      <td>3</td>\n",
       "      <td>{'pokemon': 'Togekiss', 'percent': '59.572', 'types': ['fairy', 'flying']}</td>\n",
       "      <td>{'pokemon': 'Tyranitar', 'percent': '47.122', 'types': ['rock', 'dark']}</td>\n",
       "      <td>{'pokemon': 'Dragapult', 'percent': '40.479', 'types': ['dragon', 'ghost']}</td>\n",
       "    </tr>\n",
       "    <tr>\n",
       "      <td>4</td>\n",
       "      <td>{'pokemon': 'Duraludon', 'percent': '36.074', 'types': ['steel', 'dragon']}</td>\n",
       "      <td>{'pokemon': 'Togekiss', 'percent': '32.431', 'types': ['fairy', 'flying']}</td>\n",
       "      <td>{'pokemon': 'Arcanine', 'percent': '25.983', 'types': ['fire']}</td>\n",
       "    </tr>\n",
       "  </tbody>\n",
       "</table>\n",
       "</div>"
      ],
      "text/plain": [
       "                                                          Most common teammate  \\\n",
       "0  {'pokemon': 'Excadrill', 'percent': '38.536', 'types': ['ground', 'steel']}   \n",
       "1  {'pokemon': 'Togekiss', 'percent': '45.687', 'types': ['fairy', 'flying']}    \n",
       "2  {'pokemon': 'Togekiss', 'percent': '48.228', 'types': ['fairy', 'flying']}    \n",
       "3  {'pokemon': 'Togekiss', 'percent': '59.572', 'types': ['fairy', 'flying']}    \n",
       "4  {'pokemon': 'Duraludon', 'percent': '36.074', 'types': ['steel', 'dragon']}   \n",
       "\n",
       "                                                      2nd most common teammate  \\\n",
       "0  {'pokemon': 'Arcanine', 'percent': '35.593', 'types': ['fire']}               \n",
       "1  {'pokemon': 'Dragapult', 'percent': '30.663', 'types': ['dragon', 'ghost']}   \n",
       "2  {'pokemon': 'Excadrill', 'percent': '38.133', 'types': ['ground', 'steel']}   \n",
       "3  {'pokemon': 'Tyranitar', 'percent': '47.122', 'types': ['rock', 'dark']}      \n",
       "4  {'pokemon': 'Togekiss', 'percent': '32.431', 'types': ['fairy', 'flying']}    \n",
       "\n",
       "                                                      3rd most common teammate  \n",
       "0  {'pokemon': 'Dragapult', 'percent': '33.117', 'types': ['dragon', 'ghost']}  \n",
       "1  {'pokemon': 'Tyranitar', 'percent': '28.847', 'types': ['rock', 'dark']}     \n",
       "2  {'pokemon': 'Arcanine', 'percent': '34.788', 'types': ['fire']}              \n",
       "3  {'pokemon': 'Dragapult', 'percent': '40.479', 'types': ['dragon', 'ghost']}  \n",
       "4  {'pokemon': 'Arcanine', 'percent': '25.983', 'types': ['fire']}              "
      ]
     },
     "execution_count": 78,
     "metadata": {},
     "output_type": "execute_result"
    }
   ],
   "source": [
    "teamsDF = teamsDF.rename(columns={0:\"Most common teammate\",\n",
    "                            1:\"2nd most common teammate\",\n",
    "                            2:\"3rd most common teammate\"})\n",
    "teamsDF.head(5)"
   ]
  },
  {
   "cell_type": "code",
   "execution_count": 79,
   "metadata": {},
   "outputs": [
    {
     "data": {
      "text/html": [
       "<div>\n",
       "<style scoped>\n",
       "    .dataframe tbody tr th:only-of-type {\n",
       "        vertical-align: middle;\n",
       "    }\n",
       "\n",
       "    .dataframe tbody tr th {\n",
       "        vertical-align: top;\n",
       "    }\n",
       "\n",
       "    .dataframe thead th {\n",
       "        text-align: right;\n",
       "    }\n",
       "</style>\n",
       "<table border=\"1\" class=\"dataframe\">\n",
       "  <thead>\n",
       "    <tr style=\"text-align: right;\">\n",
       "      <th></th>\n",
       "      <th>Most common teammate</th>\n",
       "    </tr>\n",
       "  </thead>\n",
       "  <tbody>\n",
       "    <tr>\n",
       "      <td>0</td>\n",
       "      <td>Excadrill 38.536% ['ground', 'steel']</td>\n",
       "    </tr>\n",
       "    <tr>\n",
       "      <td>1</td>\n",
       "      <td>Togekiss 45.687% ['fairy', 'flying']</td>\n",
       "    </tr>\n",
       "    <tr>\n",
       "      <td>2</td>\n",
       "      <td>Togekiss 48.228% ['fairy', 'flying']</td>\n",
       "    </tr>\n",
       "    <tr>\n",
       "      <td>3</td>\n",
       "      <td>Togekiss 59.572% ['fairy', 'flying']</td>\n",
       "    </tr>\n",
       "    <tr>\n",
       "      <td>4</td>\n",
       "      <td>Duraludon 36.074% ['steel', 'dragon']</td>\n",
       "    </tr>\n",
       "  </tbody>\n",
       "</table>\n",
       "</div>"
      ],
      "text/plain": [
       "                    Most common teammate\n",
       "0  Excadrill 38.536% ['ground', 'steel']\n",
       "1  Togekiss 45.687% ['fairy', 'flying'] \n",
       "2  Togekiss 48.228% ['fairy', 'flying'] \n",
       "3  Togekiss 59.572% ['fairy', 'flying'] \n",
       "4  Duraludon 36.074% ['steel', 'dragon']"
      ]
     },
     "execution_count": 79,
     "metadata": {},
     "output_type": "execute_result"
    }
   ],
   "source": [
    "teamsDF_First = teamsDF[\"Most common teammate\"].tolist()\n",
    "teamsDF_First = pd.DataFrame(teamsDF_First)\n",
    "teamsDF_First[\"Most common teammate\"] = teamsDF_First[\"pokemon\"].astype(str) + \" \" + teamsDF_First[\"percent\"].astype(str) +\"% \" + teamsDF_First[\"types\"].astype(str)\n",
    "teamsDF_First = teamsDF_First.drop([\"pokemon\",\"percent\",\"types\"], axis=1)\n",
    "teamsDF_First.head(5)"
   ]
  },
  {
   "cell_type": "code",
   "execution_count": 80,
   "metadata": {},
   "outputs": [
    {
     "data": {
      "text/html": [
       "<div>\n",
       "<style scoped>\n",
       "    .dataframe tbody tr th:only-of-type {\n",
       "        vertical-align: middle;\n",
       "    }\n",
       "\n",
       "    .dataframe tbody tr th {\n",
       "        vertical-align: top;\n",
       "    }\n",
       "\n",
       "    .dataframe thead th {\n",
       "        text-align: right;\n",
       "    }\n",
       "</style>\n",
       "<table border=\"1\" class=\"dataframe\">\n",
       "  <thead>\n",
       "    <tr style=\"text-align: right;\">\n",
       "      <th></th>\n",
       "      <th>2nd most common teammate</th>\n",
       "    </tr>\n",
       "  </thead>\n",
       "  <tbody>\n",
       "    <tr>\n",
       "      <td>0</td>\n",
       "      <td>Arcanine 35.593% ['fire']</td>\n",
       "    </tr>\n",
       "    <tr>\n",
       "      <td>1</td>\n",
       "      <td>Dragapult 30.663% ['dragon', 'ghost']</td>\n",
       "    </tr>\n",
       "    <tr>\n",
       "      <td>2</td>\n",
       "      <td>Excadrill 38.133% ['ground', 'steel']</td>\n",
       "    </tr>\n",
       "    <tr>\n",
       "      <td>3</td>\n",
       "      <td>Tyranitar 47.122% ['rock', 'dark']</td>\n",
       "    </tr>\n",
       "    <tr>\n",
       "      <td>4</td>\n",
       "      <td>Togekiss 32.431% ['fairy', 'flying']</td>\n",
       "    </tr>\n",
       "  </tbody>\n",
       "</table>\n",
       "</div>"
      ],
      "text/plain": [
       "                2nd most common teammate\n",
       "0  Arcanine 35.593% ['fire']            \n",
       "1  Dragapult 30.663% ['dragon', 'ghost']\n",
       "2  Excadrill 38.133% ['ground', 'steel']\n",
       "3  Tyranitar 47.122% ['rock', 'dark']   \n",
       "4  Togekiss 32.431% ['fairy', 'flying'] "
      ]
     },
     "execution_count": 80,
     "metadata": {},
     "output_type": "execute_result"
    }
   ],
   "source": [
    "teamsDF_Second = teamsDF[\"2nd most common teammate\"].tolist()\n",
    "teamsDF_Second = pd.DataFrame(teamsDF_Second)\n",
    "teamsDF_Second[\"2nd most common teammate\"] = teamsDF_Second[\"pokemon\"].astype(str) + \" \" + teamsDF_Second[\"percent\"].astype(str) +\"% \" + teamsDF_Second[\"types\"].astype(str)\n",
    "teamsDF_Second = teamsDF_Second.drop([\"pokemon\",\"percent\",\"types\"], axis=1)\n",
    "teamsDF_Second.head(5)"
   ]
  },
  {
   "cell_type": "code",
   "execution_count": 81,
   "metadata": {},
   "outputs": [
    {
     "data": {
      "text/html": [
       "<div>\n",
       "<style scoped>\n",
       "    .dataframe tbody tr th:only-of-type {\n",
       "        vertical-align: middle;\n",
       "    }\n",
       "\n",
       "    .dataframe tbody tr th {\n",
       "        vertical-align: top;\n",
       "    }\n",
       "\n",
       "    .dataframe thead th {\n",
       "        text-align: right;\n",
       "    }\n",
       "</style>\n",
       "<table border=\"1\" class=\"dataframe\">\n",
       "  <thead>\n",
       "    <tr style=\"text-align: right;\">\n",
       "      <th></th>\n",
       "      <th>3rd most common teammate</th>\n",
       "    </tr>\n",
       "  </thead>\n",
       "  <tbody>\n",
       "    <tr>\n",
       "      <td>0</td>\n",
       "      <td>Dragapult 33.117% ['dragon', 'ghost']</td>\n",
       "    </tr>\n",
       "    <tr>\n",
       "      <td>1</td>\n",
       "      <td>Tyranitar 28.847% ['rock', 'dark']</td>\n",
       "    </tr>\n",
       "    <tr>\n",
       "      <td>2</td>\n",
       "      <td>Arcanine 34.788% ['fire']</td>\n",
       "    </tr>\n",
       "  </tbody>\n",
       "</table>\n",
       "</div>"
      ],
      "text/plain": [
       "                3rd most common teammate\n",
       "0  Dragapult 33.117% ['dragon', 'ghost']\n",
       "1  Tyranitar 28.847% ['rock', 'dark']   \n",
       "2  Arcanine 34.788% ['fire']            "
      ]
     },
     "execution_count": 81,
     "metadata": {},
     "output_type": "execute_result"
    }
   ],
   "source": [
    "teamsDF_Third = teamsDF[\"3rd most common teammate\"].tolist()\n",
    "teamsDF_Third = pd.DataFrame(teamsDF_Third)\n",
    "teamsDF_Third[\"3rd most common teammate\"] = teamsDF_Third[\"pokemon\"].astype(str) + \" \" + teamsDF_Third[\"percent\"].astype(str) +\"% \" + teamsDF_Third[\"types\"].astype(str)\n",
    "teamsDF_Third = teamsDF_Third.drop([\"pokemon\",\"percent\",\"types\"], axis=1)\n",
    "teamsDF_Third.head(3)"
   ]
  },
  {
   "cell_type": "markdown",
   "metadata": {},
   "source": [
    "## Working On The web"
   ]
  },
  {
   "cell_type": "code",
   "execution_count": null,
   "metadata": {},
   "outputs": [],
   "source": [
    "url1 = \"https://www.wikidex.net/wiki/Lista_de_Pok%C3%A9mon_con_sus_estad%C3%ADsticas_base\""
   ]
  },
  {
   "cell_type": "code",
   "execution_count": null,
   "metadata": {},
   "outputs": [],
   "source": [
    "html = requests.get(url1).content\n",
    "soup = BeautifulSoup(html, \"lxml\")\n",
    "soup"
   ]
  },
  {
   "cell_type": "code",
   "execution_count": null,
   "metadata": {},
   "outputs": [],
   "source": [
    "table = soup.find_all(\"table\", {\"class\":\"tabpokemon sortable mergetable tablemanager\"})[0]\n",
    "type(table)"
   ]
  },
  {
   "cell_type": "code",
   "execution_count": null,
   "metadata": {},
   "outputs": [],
   "source": [
    "rows = table.find_all(\"tr\")\n",
    "rows = [row.text.strip().split(\"\\n\") for row in rows]\n",
    "rows = [list(filter(None,row)) for row in rows]\n",
    "wikidexDF = pd.DataFrame(rows)"
   ]
  },
  {
   "cell_type": "code",
   "execution_count": null,
   "metadata": {},
   "outputs": [],
   "source": [
    "wikidexDF.head(5)"
   ]
  },
  {
   "cell_type": "code",
   "execution_count": null,
   "metadata": {},
   "outputs": [],
   "source": [
    "wikidexDF = wikidexDF.drop([11], axis=1)\n",
    "wikidexDF.head(5)"
   ]
  },
  {
   "cell_type": "code",
   "execution_count": null,
   "metadata": {},
   "outputs": [],
   "source": [
    "wikidexDF = wikidexDF.drop([0], axis=0)\n",
    "wikidexDF.head(5)"
   ]
  },
  {
   "cell_type": "code",
   "execution_count": null,
   "metadata": {},
   "outputs": [],
   "source": [
    "colnames = [\"National Dex #\", \"Pokémon\", \"HP\", \"Attack\", \"Defense\", \"Special Attack\", \"Special Defense\", \"Speed\", \"Mean\", \"SD\", \"Total\"]\n",
    "\n",
    "wikidexDF = pd.DataFrame(rows[1:], columns = colnames)\n"
   ]
  },
  {
   "cell_type": "code",
   "execution_count": null,
   "metadata": {},
   "outputs": [],
   "source": [
    "wikidexDF.head(10)"
   ]
  },
  {
   "cell_type": "markdown",
   "metadata": {},
   "source": [
    "## Combining Information"
   ]
  },
  {
   "cell_type": "code",
   "execution_count": null,
   "metadata": {},
   "outputs": [],
   "source": [
    "#pokemonDF = pokemonDF.style.hide_index()"
   ]
  }
 ],
 "metadata": {
  "kernelspec": {
   "display_name": "Python 3",
   "language": "python",
   "name": "python3"
  },
  "language_info": {
   "codemirror_mode": {
    "name": "ipython",
    "version": 3
   },
   "file_extension": ".py",
   "mimetype": "text/x-python",
   "name": "python",
   "nbconvert_exporter": "python",
   "pygments_lexer": "ipython3",
   "version": "3.7.4"
  },
  "varInspector": {
   "cols": {
    "lenName": 16,
    "lenType": 16,
    "lenVar": 40
   },
   "kernels_config": {
    "python": {
     "delete_cmd_postfix": "",
     "delete_cmd_prefix": "del ",
     "library": "var_list.py",
     "varRefreshCmd": "print(var_dic_list())"
    },
    "r": {
     "delete_cmd_postfix": ") ",
     "delete_cmd_prefix": "rm(",
     "library": "var_list.r",
     "varRefreshCmd": "cat(var_dic_list()) "
    }
   },
   "types_to_exclude": [
    "module",
    "function",
    "builtin_function_or_method",
    "instance",
    "_Feature"
   ],
   "window_display": false
  }
 },
 "nbformat": 4,
 "nbformat_minor": 2
}
