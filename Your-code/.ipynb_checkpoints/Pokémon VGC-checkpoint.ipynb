{
 "cells": [
  {
   "cell_type": "markdown",
   "metadata": {},
   "source": [
    "<img src=\"https://bit.ly/2VnXWr2\" width=\"100\" align=\"left\">"
   ]
  },
  {
   "cell_type": "markdown",
   "metadata": {},
   "source": [
    "# Project | API and Web Data Scraping"
   ]
  },
  {
   "cell_type": "markdown",
   "metadata": {},
   "source": [
    "## Import Useful Libraries"
   ]
  },
  {
   "cell_type": "code",
   "execution_count": 1,
   "metadata": {
    "ExecuteTime": {
     "end_time": "2020-03-21T11:11:40.860733Z",
     "start_time": "2020-03-21T11:11:38.039865Z"
    }
   },
   "outputs": [],
   "source": [
    "import os\n",
    "import numpy as np\n",
    "import pandas as pd\n",
    "import re\n",
    "import math\n",
    "import json\n",
    "import requests\n",
    "from pandas import json_normalize\n",
    "from bs4 import BeautifulSoup"
   ]
  },
  {
   "cell_type": "markdown",
   "metadata": {},
   "source": [
    "## Working On The API"
   ]
  },
  {
   "cell_type": "markdown",
   "metadata": {},
   "source": [
    "### Getting the needed information from the API"
   ]
  },
  {
   "cell_type": "code",
   "execution_count": 2,
   "metadata": {
    "ExecuteTime": {
     "end_time": "2020-03-21T11:11:41.496030Z",
     "start_time": "2020-03-21T11:11:40.862726Z"
    }
   },
   "outputs": [
    {
     "ename": "TypeError",
     "evalue": "'bool' object is not iterable",
     "output_type": "error",
     "traceback": [
      "\u001b[1;31m---------------------------------------------------------------------------\u001b[0m",
      "\u001b[1;31mTypeError\u001b[0m                                 Traceback (most recent call last)",
      "\u001b[1;32m<ipython-input-2-038cad2bccf7>\u001b[0m in \u001b[0;36m<module>\u001b[1;34m\u001b[0m\n\u001b[0;32m      8\u001b[0m \u001b[0mresponse\u001b[0m \u001b[1;33m=\u001b[0m \u001b[0mrequests\u001b[0m\u001b[1;33m.\u001b[0m\u001b[0mget\u001b[0m\u001b[1;33m(\u001b[0m\u001b[0murl\u001b[0m\u001b[1;33m,\u001b[0m \u001b[0mheaders\u001b[0m\u001b[1;33m=\u001b[0m\u001b[0mheaders\u001b[0m\u001b[1;33m)\u001b[0m\u001b[1;33m\u001b[0m\u001b[1;33m\u001b[0m\u001b[0m\n\u001b[0;32m      9\u001b[0m \u001b[0mresults\u001b[0m \u001b[1;33m=\u001b[0m \u001b[0mresponse\u001b[0m\u001b[1;33m.\u001b[0m\u001b[0mjson\u001b[0m\u001b[1;33m(\u001b[0m\u001b[1;33m)\u001b[0m\u001b[1;33m\u001b[0m\u001b[1;33m\u001b[0m\u001b[0m\n\u001b[1;32m---> 10\u001b[1;33m \u001b[0mflattened_data\u001b[0m \u001b[1;33m=\u001b[0m \u001b[0mjson_normalize\u001b[0m\u001b[1;33m(\u001b[0m\u001b[0mresults\u001b[0m\u001b[1;33m)\u001b[0m\u001b[1;33m\u001b[0m\u001b[1;33m\u001b[0m\u001b[0m\n\u001b[0m\u001b[0;32m     11\u001b[0m \u001b[0mpikalyticsDF\u001b[0m \u001b[1;33m=\u001b[0m \u001b[0mflattened_data\u001b[0m\u001b[1;33m\u001b[0m\u001b[1;33m\u001b[0m\u001b[0m\n",
      "\u001b[1;32m~\\Anaconda3\\lib\\site-packages\\pandas\\io\\json\\_normalize.py\u001b[0m in \u001b[0;36m_json_normalize\u001b[1;34m(data, record_path, meta, meta_prefix, record_prefix, errors, sep, max_level)\u001b[0m\n\u001b[0;32m    258\u001b[0m \u001b[1;33m\u001b[0m\u001b[0m\n\u001b[0;32m    259\u001b[0m     \u001b[1;32mif\u001b[0m \u001b[0mrecord_path\u001b[0m \u001b[1;32mis\u001b[0m \u001b[1;32mNone\u001b[0m\u001b[1;33m:\u001b[0m\u001b[1;33m\u001b[0m\u001b[1;33m\u001b[0m\u001b[0m\n\u001b[1;32m--> 260\u001b[1;33m         \u001b[1;32mif\u001b[0m \u001b[0many\u001b[0m\u001b[1;33m(\u001b[0m\u001b[1;33m[\u001b[0m\u001b[0misinstance\u001b[0m\u001b[1;33m(\u001b[0m\u001b[0mx\u001b[0m\u001b[1;33m,\u001b[0m \u001b[0mdict\u001b[0m\u001b[1;33m)\u001b[0m \u001b[1;32mfor\u001b[0m \u001b[0mx\u001b[0m \u001b[1;32min\u001b[0m \u001b[0my\u001b[0m\u001b[1;33m.\u001b[0m\u001b[0mvalues\u001b[0m\u001b[1;33m(\u001b[0m\u001b[1;33m)\u001b[0m\u001b[1;33m]\u001b[0m \u001b[1;32mfor\u001b[0m \u001b[0my\u001b[0m \u001b[1;32min\u001b[0m \u001b[0mdata\u001b[0m\u001b[1;33m)\u001b[0m\u001b[1;33m:\u001b[0m\u001b[1;33m\u001b[0m\u001b[1;33m\u001b[0m\u001b[0m\n\u001b[0m\u001b[0;32m    261\u001b[0m             \u001b[1;31m# naive normalization, this is idempotent for flat records\u001b[0m\u001b[1;33m\u001b[0m\u001b[1;33m\u001b[0m\u001b[1;33m\u001b[0m\u001b[0m\n\u001b[0;32m    262\u001b[0m             \u001b[1;31m# and potentially will inflate the data considerably for\u001b[0m\u001b[1;33m\u001b[0m\u001b[1;33m\u001b[0m\u001b[1;33m\u001b[0m\u001b[0m\n",
      "\u001b[1;31mTypeError\u001b[0m: 'bool' object is not iterable"
     ]
    }
   ],
   "source": [
    "url = \"https://pikalytics.com/api/p/2020-01/ss-1760\"\n",
    "\n",
    "headers = {\n",
    "    \"User-Agent\":\n",
    "    \"Mozilla/5.0 (Windows NT 10.0; Win64; x64) AppleWebKit/537.36 (KHTML, like Gecko) Chrome/79.0.3945.130 Safari/537.36\"\n",
    "}\n",
    "\n",
    "response = requests.get(url, headers=headers)\n",
    "results = response.json()\n",
    "flattened_data = json_normalize(results)\n",
    "pikalyticsDF = flattened_data"
   ]
  },
  {
   "cell_type": "code",
   "execution_count": 3,
   "metadata": {
    "ExecuteTime": {
     "end_time": "2020-03-21T11:12:11.232793Z",
     "start_time": "2020-03-21T11:12:11.223976Z"
    }
   },
   "outputs": [
    {
     "name": "stderr",
     "output_type": "stream",
     "text": [
      "C:\\Users\\Miguel\\Anaconda3\\lib\\site-packages\\ipykernel_launcher.py:3: FutureWarning: Passing a negative integer is deprecated in version 1.0 and will not be supported in future version. Instead, use None to not limit the column width.\n",
      "  This is separate from the ipykernel package so we can avoid doing imports until\n"
     ]
    }
   ],
   "source": [
    "pd.set_option('display.max_rows', None)\n",
    "pd.set_option('display.max_columns', None)\n",
    "pd.set_option('display.max_colwidth', -1)"
   ]
  },
  {
   "cell_type": "markdown",
   "metadata": {},
   "source": [
    "### Drop the columns I don't need and clean the remaining information"
   ]
  },
  {
   "cell_type": "code",
   "execution_count": 4,
   "metadata": {
    "ExecuteTime": {
     "end_time": "2020-03-21T11:12:11.664001Z",
     "start_time": "2020-03-21T11:12:11.235789Z"
    }
   },
   "outputs": [
    {
     "ename": "NameError",
     "evalue": "name 'pikalyticsDF' is not defined",
     "output_type": "error",
     "traceback": [
      "\u001b[1;31m---------------------------------------------------------------------------\u001b[0m",
      "\u001b[1;31mNameError\u001b[0m                                 Traceback (most recent call last)",
      "\u001b[1;32m<ipython-input-4-a7bdaeb92760>\u001b[0m in \u001b[0;36m<module>\u001b[1;34m\u001b[0m\n\u001b[1;32m----> 1\u001b[1;33m pikalyticsDF = pikalyticsDF.drop([\n\u001b[0m\u001b[0;32m      2\u001b[0m     \u001b[1;34m'abilities'\u001b[0m\u001b[1;33m,\u001b[0m \u001b[1;34m'raw_count'\u001b[0m\u001b[1;33m,\u001b[0m \u001b[1;34m'items'\u001b[0m\u001b[1;33m,\u001b[0m \u001b[1;34m'spreads'\u001b[0m\u001b[1;33m,\u001b[0m \u001b[1;34m'moves'\u001b[0m\u001b[1;33m,\u001b[0m \u001b[1;34m'stats.hp'\u001b[0m\u001b[1;33m,\u001b[0m\u001b[1;33m\u001b[0m\u001b[1;33m\u001b[0m\u001b[0m\n\u001b[0;32m      3\u001b[0m     \u001b[1;34m'stats.atk'\u001b[0m\u001b[1;33m,\u001b[0m \u001b[1;34m'stats.def'\u001b[0m\u001b[1;33m,\u001b[0m \u001b[1;34m'stats.spa'\u001b[0m\u001b[1;33m,\u001b[0m \u001b[1;34m'stats.spd'\u001b[0m\u001b[1;33m,\u001b[0m \u001b[1;34m'stats.spe'\u001b[0m\u001b[1;33m,\u001b[0m \u001b[1;34m'ss'\u001b[0m\u001b[1;33m\u001b[0m\u001b[1;33m\u001b[0m\u001b[0m\n\u001b[0;32m      4\u001b[0m ],\n\u001b[0;32m      5\u001b[0m                                  axis=1)\n",
      "\u001b[1;31mNameError\u001b[0m: name 'pikalyticsDF' is not defined"
     ]
    }
   ],
   "source": [
    "pikalyticsDF = pikalyticsDF.drop([\n",
    "    'abilities', 'raw_count', 'items', 'spreads', 'moves', 'stats.hp',\n",
    "    'stats.atk', 'stats.def', 'stats.spa', 'stats.spd', 'stats.spe', 'ss'\n",
    "],\n",
    "                                 axis=1)"
   ]
  },
  {
   "cell_type": "markdown",
   "metadata": {},
   "source": [
    "### As I had issues to properly cleaning the column team I will make a copy from it and treat it individually."
   ]
  },
  {
   "cell_type": "code",
   "execution_count": null,
   "metadata": {
    "ExecuteTime": {
     "end_time": "2020-03-21T11:12:11.676920Z",
     "start_time": "2020-03-21T11:12:11.235Z"
    }
   },
   "outputs": [],
   "source": [
    "teams = pikalyticsDF[\"team\"].tolist()"
   ]
  },
  {
   "cell_type": "code",
   "execution_count": null,
   "metadata": {
    "ExecuteTime": {
     "end_time": "2020-03-21T11:12:11.679712Z",
     "start_time": "2020-03-21T11:12:11.240Z"
    }
   },
   "outputs": [],
   "source": [
    "teamsDF = pd.DataFrame(teams)"
   ]
  },
  {
   "cell_type": "code",
   "execution_count": null,
   "metadata": {
    "ExecuteTime": {
     "end_time": "2020-03-21T11:12:11.680910Z",
     "start_time": "2020-03-21T11:12:11.242Z"
    }
   },
   "outputs": [],
   "source": [
    "teamsDF = teamsDF.drop([3, 4, 5, 6, 7, 8, 9, 10, 11], axis=1)"
   ]
  },
  {
   "cell_type": "code",
   "execution_count": null,
   "metadata": {
    "ExecuteTime": {
     "end_time": "2020-03-21T11:12:11.682046Z",
     "start_time": "2020-03-21T11:12:11.245Z"
    }
   },
   "outputs": [],
   "source": [
    "teamsDF = teamsDF.rename(\n",
    "    columns={\n",
    "        0: \"Most common teammate\",\n",
    "        1: \"2nd most common teammate\",\n",
    "        2: \"3rd most common teammate\"\n",
    "    })\n",
    "teamsDF.head()"
   ]
  },
  {
   "cell_type": "code",
   "execution_count": null,
   "metadata": {
    "ExecuteTime": {
     "end_time": "2020-03-21T11:12:11.683032Z",
     "start_time": "2020-03-21T11:12:11.249Z"
    }
   },
   "outputs": [],
   "source": [
    "teamsDF_First = teamsDF[\"Most common teammate\"].tolist()\n",
    "teamsDF_First = pd.DataFrame(teamsDF_First)\n",
    "teamsDF_First[\"Most common teammate\"] = teamsDF_First[\"pokemon\"].astype(\n",
    "    str) + \" \" + teamsDF_First[\"percent\"].astype(\n",
    "        str) + \"% \" + teamsDF_First[\"types\"].astype(str)\n",
    "teamsDF_First = teamsDF_First.drop([\"pokemon\", \"percent\", \"types\"], axis=1)"
   ]
  },
  {
   "cell_type": "code",
   "execution_count": null,
   "metadata": {
    "ExecuteTime": {
     "end_time": "2020-03-21T11:12:11.686023Z",
     "start_time": "2020-03-21T11:12:11.257Z"
    }
   },
   "outputs": [],
   "source": [
    "teamsDF_Second = teamsDF[\"2nd most common teammate\"].tolist()\n",
    "teamsDF_Second = pd.DataFrame(teamsDF_Second)\n",
    "teamsDF_Second[\"2nd most common teammate\"] = teamsDF_Second[\"pokemon\"].astype(\n",
    "    str) + \" \" + teamsDF_Second[\"percent\"].astype(\n",
    "        str) + \"% \" + teamsDF_Second[\"types\"].astype(str)\n",
    "teamsDF_Second = teamsDF_Second.drop([\"pokemon\", \"percent\", \"types\"], axis=1)"
   ]
  },
  {
   "cell_type": "code",
   "execution_count": null,
   "metadata": {
    "ExecuteTime": {
     "end_time": "2020-03-21T11:12:11.688040Z",
     "start_time": "2020-03-21T11:12:11.259Z"
    }
   },
   "outputs": [],
   "source": [
    "teamsDF_Third = teamsDF[\"3rd most common teammate\"].tolist()\n",
    "teamsDF_Third = pd.DataFrame(teamsDF_Third)\n",
    "teamsDF_Third[\"3rd most common teammate\"] = teamsDF_Third[\"pokemon\"].astype(\n",
    "    str) + \" \" + teamsDF_Third[\"percent\"].astype(\n",
    "        str) + \"% \" + teamsDF_Third[\"types\"].astype(str)\n",
    "teamsDF_Third = teamsDF_Third.drop([\"pokemon\", \"percent\", \"types\"], axis=1)"
   ]
  },
  {
   "cell_type": "markdown",
   "metadata": {},
   "source": [
    "### Now I'll create new columns in the original dataset to add the information I wanted from the DF I cleaned separately"
   ]
  },
  {
   "cell_type": "code",
   "execution_count": null,
   "metadata": {
    "ExecuteTime": {
     "end_time": "2020-03-21T11:12:11.690013Z",
     "start_time": "2020-03-21T11:12:11.262Z"
    }
   },
   "outputs": [],
   "source": [
    "pikalyticsDF = pikalyticsDF.drop([\"team\"], axis=1)"
   ]
  },
  {
   "cell_type": "code",
   "execution_count": null,
   "metadata": {
    "ExecuteTime": {
     "end_time": "2020-03-21T11:12:11.691024Z",
     "start_time": "2020-03-21T11:12:11.264Z"
    }
   },
   "outputs": [],
   "source": [
    "pikalyticsDF[\"Most common teammates\"] = teamsDF_First[\"Most common teammate\"]\n",
    "pikalyticsDF[\"2nd most common teammates\"] = teamsDF_Second[\n",
    "    \"2nd most common teammate\"]\n",
    "pikalyticsDF[\"3rd most common teammates\"] = teamsDF_Third[\n",
    "    \"3rd most common teammate\"]"
   ]
  },
  {
   "cell_type": "code",
   "execution_count": null,
   "metadata": {
    "ExecuteTime": {
     "end_time": "2020-03-21T11:12:11.694004Z",
     "start_time": "2020-03-21T11:12:11.265Z"
    }
   },
   "outputs": [],
   "source": [
    "pikalyticsDF.head(5)"
   ]
  },
  {
   "cell_type": "code",
   "execution_count": null,
   "metadata": {
    "ExecuteTime": {
     "end_time": "2020-03-21T11:12:11.699986Z",
     "start_time": "2020-03-21T11:12:11.268Z"
    }
   },
   "outputs": [],
   "source": [
    "pikalyticsDF.loc[\n",
    "    pikalyticsDF[\"Most common teammates\"].isnull(),\n",
    "    \"Most common teammates\"] = teamsDF_First[\"Most common teammate\"]\n",
    "pikalyticsDF.loc[\n",
    "    pikalyticsDF[\"2nd most common teammates\"].isnull(),\n",
    "    \"2nd most common teammates\"] = teamsDF_Second[\"2nd most common teammate\"]\n",
    "pikalyticsDF.loc[\n",
    "    pikalyticsDF[\"3rd most common teammates\"].isnull(),\n",
    "    \"3rd most common teammates\"] = teamsDF_Third[\"3rd most common teammate\"]"
   ]
  },
  {
   "cell_type": "markdown",
   "metadata": {},
   "source": [
    "### Here it is the clean pikalytics dataframe"
   ]
  },
  {
   "cell_type": "code",
   "execution_count": null,
   "metadata": {
    "ExecuteTime": {
     "end_time": "2020-03-21T11:12:11.703812Z",
     "start_time": "2020-03-21T11:12:11.270Z"
    }
   },
   "outputs": [],
   "source": [
    "pikalyticsDF.head()"
   ]
  },
  {
   "cell_type": "markdown",
   "metadata": {},
   "source": [
    "## Working On The Web"
   ]
  },
  {
   "cell_type": "markdown",
   "metadata": {},
   "source": [
    "### Getting the needed information from the web"
   ]
  },
  {
   "cell_type": "code",
   "execution_count": null,
   "metadata": {
    "ExecuteTime": {
     "end_time": "2020-03-21T11:12:11.705804Z",
     "start_time": "2020-03-21T11:12:11.273Z"
    }
   },
   "outputs": [],
   "source": [
    "url1 = \"https://www.wikidex.net/wiki/Lista_de_Pok%C3%A9mon_con_sus_estad%C3%ADsticas_base\""
   ]
  },
  {
   "cell_type": "code",
   "execution_count": null,
   "metadata": {
    "ExecuteTime": {
     "end_time": "2020-03-21T11:12:11.706801Z",
     "start_time": "2020-03-21T11:12:11.275Z"
    }
   },
   "outputs": [],
   "source": [
    "html = requests.get(url1).content\n",
    "soup = BeautifulSoup(html, \"lxml\")"
   ]
  },
  {
   "cell_type": "markdown",
   "metadata": {},
   "source": [
    "### Cleaning the data we got and generating a dataframe"
   ]
  },
  {
   "cell_type": "code",
   "execution_count": null,
   "metadata": {
    "ExecuteTime": {
     "end_time": "2020-03-21T11:12:11.707798Z",
     "start_time": "2020-03-21T11:12:11.278Z"
    }
   },
   "outputs": [],
   "source": [
    "table = soup.find_all(\n",
    "    \"table\", {\"class\": \"tabpokemon sortable mergetable tablemanager\"})[0]"
   ]
  },
  {
   "cell_type": "code",
   "execution_count": null,
   "metadata": {
    "ExecuteTime": {
     "end_time": "2020-03-21T11:12:11.708803Z",
     "start_time": "2020-03-21T11:12:11.281Z"
    }
   },
   "outputs": [],
   "source": [
    "rows = table.find_all(\"tr\")\n",
    "rows = [row.text.strip().split(\"\\n\") for row in rows]\n",
    "rows = [list(filter(None, row)) for row in rows]\n",
    "wikidexDF = pd.DataFrame(rows)"
   ]
  },
  {
   "cell_type": "code",
   "execution_count": null,
   "metadata": {
    "ExecuteTime": {
     "end_time": "2020-03-21T11:12:11.709793Z",
     "start_time": "2020-03-21T11:12:11.284Z"
    }
   },
   "outputs": [],
   "source": [
    "wikidexDF.head()"
   ]
  },
  {
   "cell_type": "code",
   "execution_count": null,
   "metadata": {
    "ExecuteTime": {
     "end_time": "2020-03-21T11:12:11.710790Z",
     "start_time": "2020-03-21T11:12:11.290Z"
    }
   },
   "outputs": [],
   "source": [
    "wikidexDF = wikidexDF.drop([11], axis=1)"
   ]
  },
  {
   "cell_type": "code",
   "execution_count": null,
   "metadata": {
    "ExecuteTime": {
     "end_time": "2020-03-21T11:12:11.711787Z",
     "start_time": "2020-03-21T11:12:11.294Z"
    }
   },
   "outputs": [],
   "source": [
    "wikidexDF = wikidexDF.drop([0], axis=0)\n",
    "wikidexDF.head()"
   ]
  },
  {
   "cell_type": "code",
   "execution_count": null,
   "metadata": {
    "ExecuteTime": {
     "end_time": "2020-03-21T11:12:11.713784Z",
     "start_time": "2020-03-21T11:12:11.297Z"
    }
   },
   "outputs": [],
   "source": [
    "colnames = [\n",
    "    \"National Dex #\", \"Pokémon\", \"HP\", \"Attack\", \"Defense\", \"Special Attack\",\n",
    "    \"Special Defense\", \"Speed\", \"Mean\", \"SD\", \"Total\"\n",
    "]\n",
    "\n",
    "wikidexDF = pd.DataFrame(rows[1:], columns=colnames)"
   ]
  },
  {
   "cell_type": "markdown",
   "metadata": {},
   "source": [
    "### Here it is the clean wikidex dataframe"
   ]
  },
  {
   "cell_type": "code",
   "execution_count": null,
   "metadata": {
    "ExecuteTime": {
     "end_time": "2020-03-21T11:12:11.716779Z",
     "start_time": "2020-03-21T11:12:11.299Z"
    }
   },
   "outputs": [],
   "source": [
    "wikidexDF.head()"
   ]
  },
  {
   "cell_type": "markdown",
   "metadata": {},
   "source": [
    "## Results"
   ]
  },
  {
   "cell_type": "code",
   "execution_count": null,
   "metadata": {
    "ExecuteTime": {
     "end_time": "2020-03-21T11:12:11.718771Z",
     "start_time": "2020-03-21T11:12:11.301Z"
    }
   },
   "outputs": [],
   "source": [
    "pikalyticsDF.to_csv(\n",
    "    \"/Users/Miguel/Documents/GitHub/Ironhack exercises/Modulo 1/project-web/Your-code/Output/pikalyticsDF_clean.csv\"\n",
    ")\n",
    "wikidexDF.to_csv(\n",
    "    \"/Users/Miguel/Documents/GitHub/Ironhack exercises/Modulo 1/project-web/Your-code/Output/wikidexDF_clean.csv\"\n",
    ")"
   ]
  },
  {
   "cell_type": "markdown",
   "metadata": {},
   "source": [
    "# Bonus"
   ]
  },
  {
   "cell_type": "markdown",
   "metadata": {},
   "source": [
    "## Combining Information"
   ]
  },
  {
   "cell_type": "markdown",
   "metadata": {},
   "source": [
    "### Merging the resulting dataframes"
   ]
  },
  {
   "cell_type": "code",
   "execution_count": null,
   "metadata": {
    "ExecuteTime": {
     "end_time": "2020-03-21T11:12:11.720764Z",
     "start_time": "2020-03-21T11:12:11.305Z"
    }
   },
   "outputs": [],
   "source": [
    "Combined_DF = pd.merge(pikalyticsDF,\n",
    "                       wikidexDF,\n",
    "                       left_on=\"name\",\n",
    "                       right_on=\"Pokémon\")"
   ]
  },
  {
   "cell_type": "code",
   "execution_count": null,
   "metadata": {
    "ExecuteTime": {
     "end_time": "2020-03-21T11:12:11.723973Z",
     "start_time": "2020-03-21T11:12:11.309Z"
    }
   },
   "outputs": [],
   "source": [
    "Combined_DF.head()"
   ]
  },
  {
   "cell_type": "markdown",
   "metadata": {},
   "source": [
    "### Drop columns that add no information"
   ]
  },
  {
   "cell_type": "code",
   "execution_count": null,
   "metadata": {
    "ExecuteTime": {
     "end_time": "2020-03-21T11:12:11.724972Z",
     "start_time": "2020-03-21T11:12:11.312Z"
    }
   },
   "outputs": [],
   "source": [
    "Combined_DF.columns"
   ]
  },
  {
   "cell_type": "code",
   "execution_count": null,
   "metadata": {
    "ExecuteTime": {
     "end_time": "2020-03-21T11:12:11.726967Z",
     "start_time": "2020-03-21T11:12:11.314Z"
    }
   },
   "outputs": [],
   "source": [
    "Combined_DF = Combined_DF.drop(['name', 'Total'], axis=1)\n",
    "Combined_DF.head()"
   ]
  },
  {
   "cell_type": "markdown",
   "metadata": {},
   "source": [
    "### Reorder columns"
   ]
  },
  {
   "cell_type": "code",
   "execution_count": null,
   "metadata": {
    "ExecuteTime": {
     "end_time": "2020-03-21T11:12:11.727963Z",
     "start_time": "2020-03-21T11:12:11.316Z"
    }
   },
   "outputs": [],
   "source": [
    "column_order = [\n",
    "    'National Dex #', 'Pokémon', 'types', 'HP', 'Attack', 'Defense',\n",
    "    'Special Attack', 'Special Defense', 'Speed', 'Mean', 'SD', 'ranking',\n",
    "    'percent', 'viability', 'Most common teammates',\n",
    "    '2nd most common teammates', '3rd most common teammates'\n",
    "]\n",
    "Combined_DF = Combined_DF[column_order]\n",
    "Combined_DF.head()"
   ]
  },
  {
   "cell_type": "markdown",
   "metadata": {},
   "source": [
    "### Rename columns"
   ]
  },
  {
   "cell_type": "code",
   "execution_count": null,
   "metadata": {
    "ExecuteTime": {
     "end_time": "2020-03-21T11:12:11.728960Z",
     "start_time": "2020-03-21T11:12:11.319Z"
    }
   },
   "outputs": [],
   "source": [
    "Combined_DF.columns = [\n",
    "    'National Dex #', 'Pokémon', 'Type', 'Base HP', 'Base Attack',\n",
    "    'Base Defense', 'Base Special Attack', 'Base Special Defense',\n",
    "    'Base Speed', 'Base Stats Mean', 'Base Stats SD', 'VGC 2020 Usage Rank',\n",
    "    'VGC 2020 Usage %', 'Competitive viability', 'Most frequent teammate',\n",
    "    '2nd most frequent teammate', '3rd most frequent teammate'\n",
    "]"
   ]
  },
  {
   "cell_type": "code",
   "execution_count": null,
   "metadata": {
    "ExecuteTime": {
     "end_time": "2020-03-21T11:12:11.729957Z",
     "start_time": "2020-03-21T11:12:11.321Z"
    }
   },
   "outputs": [],
   "source": [
    "Combined_DF[\"Base HP\"] = Combined_DF[\"Base HP\"].astype(\"float64\")\n",
    "Combined_DF[\"Base Attack\"] = Combined_DF[\"Base Attack\"].astype(\"float64\")\n",
    "Combined_DF[\"Base Defense\"] = Combined_DF[\"Base Defense\"].astype(\"float64\")\n",
    "Combined_DF[\"Base Special Attack\"] = Combined_DF[\"Base Special Attack\"].astype(\n",
    "    \"float64\")\n",
    "Combined_DF[\"Base Special Defense\"] = Combined_DF[\n",
    "    \"Base Special Defense\"].astype(\"float64\")\n",
    "Combined_DF[\"Base Speed\"] = Combined_DF[\"Base Speed\"].astype(\"float64\")\n",
    "\n",
    "Combined_DF[\"Base Stats Mean\"] = Combined_DF[\"Base Stats Mean\"].str.replace(\n",
    "    ',', '.').astype(float)\n",
    "Combined_DF[\"Base Stats SD\"] = Combined_DF[\"Base Stats SD\"].str.replace(\n",
    "    ',', '.').astype(float)"
   ]
  },
  {
   "cell_type": "markdown",
   "metadata": {},
   "source": [
    "### This is the resulting combined dataframe"
   ]
  },
  {
   "cell_type": "code",
   "execution_count": null,
   "metadata": {
    "ExecuteTime": {
     "end_time": "2020-03-21T11:12:11.731952Z",
     "start_time": "2020-03-21T11:12:11.323Z"
    }
   },
   "outputs": [],
   "source": [
    "Combined_DF.to_csv(\n",
    "    \"/Users/Miguel/Documents/GitHub/Ironhack exercises/Modulo 1/project-web/Your-code/Output/Combined_DF_clean.csv\"\n",
    ")\n",
    "Combined_Styler = Combined_DF.style.hide_index()"
   ]
  },
  {
   "cell_type": "markdown",
   "metadata": {},
   "source": [
    "## Analyzing"
   ]
  },
  {
   "cell_type": "markdown",
   "metadata": {},
   "source": [
    "### Look for outliers"
   ]
  },
  {
   "cell_type": "code",
   "execution_count": null,
   "metadata": {
    "ExecuteTime": {
     "end_time": "2020-03-21T11:12:11.733512Z",
     "start_time": "2020-03-21T11:12:11.326Z"
    }
   },
   "outputs": [],
   "source": [
    "# We will only consider lower outliers as the upper ones are basically VGC 2020 metagame's core\n",
    "stats = Combined_DF.describe().transpose()\n",
    "stats[\"IQR\"] = stats[\"75%\"] - stats[\"25%\"]\n",
    "outliers = pd.DataFrame(columns=Combined_DF.columns)\n",
    "for col in stats.index:\n",
    "    iqr = stats.at[col, 'IQR']\n",
    "    cutoff = iqr * 1.5\n",
    "    lower = stats.at[col, '25%'] - cutoff\n",
    "    upper = stats.at[col, '75%'] + cutoff\n",
    "    results = Combined_DF[(Combined_DF[col] < lower)].copy()\n",
    "    results['Outlier'] = col\n",
    "    outliers = outliers.append(results)"
   ]
  },
  {
   "cell_type": "code",
   "execution_count": null,
   "metadata": {
    "ExecuteTime": {
     "end_time": "2020-03-21T11:12:11.736223Z",
     "start_time": "2020-03-21T11:12:11.327Z"
    }
   },
   "outputs": [],
   "source": [
    "stats"
   ]
  },
  {
   "cell_type": "markdown",
   "metadata": {},
   "source": [
    "### We clean and manipulate this new \"outliers\" dataframe "
   ]
  },
  {
   "cell_type": "code",
   "execution_count": null,
   "metadata": {
    "ExecuteTime": {
     "end_time": "2020-03-21T11:12:11.737936Z",
     "start_time": "2020-03-21T11:12:11.329Z"
    }
   },
   "outputs": [],
   "source": [
    "outliers = outliers.drop([\n",
    "    '2nd most frequent teammate', '3rd most frequent teammate',\n",
    "    'Competitive viability', 'Most frequent teammate', 'National Dex #',\n",
    "    'VGC 2020 Usage Rank'\n",
    "],\n",
    "                         axis=1)"
   ]
  },
  {
   "cell_type": "code",
   "execution_count": null,
   "metadata": {
    "ExecuteTime": {
     "end_time": "2020-03-21T11:12:11.738933Z",
     "start_time": "2020-03-21T11:12:11.331Z"
    }
   },
   "outputs": [],
   "source": [
    "column_order = [\n",
    "    'Outlier', 'Pokémon', 'Type', 'Base Attack', 'Base Defense', 'Base HP',\n",
    "    'Base Special Attack', 'Base Special Defense', 'Base Speed',\n",
    "    'Base Stats Mean', 'Base Stats SD', 'VGC 2020 Usage %'\n",
    "]\n",
    "outliers = outliers[column_order]"
   ]
  },
  {
   "cell_type": "markdown",
   "metadata": {},
   "source": [
    "### Lower outliers = Pokémon that are very rarely used in VGC and we should be careful with"
   ]
  },
  {
   "cell_type": "code",
   "execution_count": null,
   "metadata": {
    "ExecuteTime": {
     "end_time": "2020-03-21T11:12:11.739931Z",
     "start_time": "2020-03-21T11:12:11.332Z"
    }
   },
   "outputs": [],
   "source": [
    "outliers.to_csv(\n",
    "    \"/Users/Miguel/Documents/GitHub/Ironhack exercises/Modulo 1/project-web/Your-code/Output/outliers_clean.csv\"\n",
    ")\n",
    "outliers.head()"
   ]
  },
  {
   "cell_type": "markdown",
   "metadata": {},
   "source": [
    "### Correlation between base stats mean and usage"
   ]
  },
  {
   "cell_type": "code",
   "execution_count": null,
   "metadata": {
    "ExecuteTime": {
     "end_time": "2020-03-21T11:12:11.741176Z",
     "start_time": "2020-03-21T11:12:11.335Z"
    }
   },
   "outputs": [],
   "source": [
    "print(Combined_DF[\"VGC 2020 Usage %\"].corr(Combined_DF[\"Base Stats Mean\"]))\n",
    "print(outliers[\"VGC 2020 Usage %\"].corr(outliers[\"Base Stats Mean\"]))"
   ]
  },
  {
   "cell_type": "markdown",
   "metadata": {},
   "source": [
    "It seems that \"lower\" outliers are more depandant on their base stats mean compared to the population overall but there's little difference so wou shoul try to focus on other variables. I personally think it could be their battle roles, but this information was not in any of the datasets I worked with or that were at least discarded candidates. "
   ]
  },
  {
   "cell_type": "code",
   "execution_count": null,
   "metadata": {},
   "outputs": [],
   "source": []
  }
 ],
 "metadata": {
  "kernelspec": {
   "display_name": "Python 3",
   "language": "python",
   "name": "python3"
  },
  "language_info": {
   "codemirror_mode": {
    "name": "ipython",
    "version": 3
   },
   "file_extension": ".py",
   "mimetype": "text/x-python",
   "name": "python",
   "nbconvert_exporter": "python",
   "pygments_lexer": "ipython3",
   "version": "3.7.6"
  },
  "varInspector": {
   "cols": {
    "lenName": 16,
    "lenType": 16,
    "lenVar": 40
   },
   "kernels_config": {
    "python": {
     "delete_cmd_postfix": "",
     "delete_cmd_prefix": "del ",
     "library": "var_list.py",
     "varRefreshCmd": "print(var_dic_list())"
    },
    "r": {
     "delete_cmd_postfix": ") ",
     "delete_cmd_prefix": "rm(",
     "library": "var_list.r",
     "varRefreshCmd": "cat(var_dic_list()) "
    }
   },
   "types_to_exclude": [
    "module",
    "function",
    "builtin_function_or_method",
    "instance",
    "_Feature"
   ],
   "window_display": false
  }
 },
 "nbformat": 4,
 "nbformat_minor": 2
}
