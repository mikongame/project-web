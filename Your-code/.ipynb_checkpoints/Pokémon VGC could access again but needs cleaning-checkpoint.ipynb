{
 "cells": [
  {
   "cell_type": "markdown",
   "metadata": {},
   "source": [
    "<img src=\"https://bit.ly/2VnXWr2\" width=\"100\" align=\"left\">"
   ]
  },
  {
   "cell_type": "markdown",
   "metadata": {},
   "source": [
    "# Project | API and Web Data Scraping"
   ]
  },
  {
   "cell_type": "markdown",
   "metadata": {},
   "source": [
    "## Import Useful Libraries"
   ]
  },
  {
   "cell_type": "code",
   "execution_count": 1,
   "metadata": {
    "ExecuteTime": {
     "end_time": "2020-04-09T16:00:03.559250Z",
     "start_time": "2020-04-09T16:00:02.600813Z"
    }
   },
   "outputs": [],
   "source": [
    "import os\n",
    "import numpy as np\n",
    "import pandas as pd\n",
    "import re\n",
    "import math\n",
    "import json\n",
    "import requests\n",
    "from pandas import json_normalize\n",
    "from bs4 import BeautifulSoup\n",
    "\n",
    "\n",
    "pd.set_option('display.max_rows', None)\n",
    "pd.set_option('display.max_columns', None)\n",
    "pd.set_option('display.max_colwidth', None)"
   ]
  },
  {
   "cell_type": "markdown",
   "metadata": {
    "heading_collapsed": true
   },
   "source": [
    "## Working On The API"
   ]
  },
  {
   "cell_type": "markdown",
   "metadata": {
    "hidden": true
   },
   "source": [
    "### Getting the needed information from the API"
   ]
  },
  {
   "cell_type": "markdown",
   "metadata": {
    "hidden": true
   },
   "source": [
    "#### The old url doesn't work anymore and the structure changed. I will create a list of pokemon with more than 0.00% usage to generate multiple urls"
   ]
  },
  {
   "cell_type": "code",
   "execution_count": 2,
   "metadata": {
    "ExecuteTime": {
     "end_time": "2020-04-09T16:00:04.653924Z",
     "start_time": "2020-04-09T16:00:03.561243Z"
    },
    "hidden": true
   },
   "outputs": [],
   "source": [
    "url = \"https://www.pikalytics.com/api/l/2020-03/ss-1760/\"\n",
    "\n",
    "headers = {\n",
    "    \"User-Agent\":\n",
    "    \"Mozilla/5.0 (Windows NT 10.0; Win64; x64) AppleWebKit/537.36 (KHTML, like Gecko) Chrome/79.0.3945.130 Safari/537.36\"\n",
    "}\n",
    "\n",
    "response = requests.get(url, headers=headers)\n",
    "results = response.json()\n",
    "flattened_data = json_normalize(results)\n",
    "pikalytics_list_DF = flattened_data"
   ]
  },
  {
   "cell_type": "code",
   "execution_count": 3,
   "metadata": {
    "ExecuteTime": {
     "end_time": "2020-04-09T16:00:04.661754Z",
     "start_time": "2020-04-09T16:00:04.656767Z"
    },
    "hidden": true
   },
   "outputs": [],
   "source": [
    "pikalitycs_names_list = list(pikalytics_list_DF[\"name\"].str.lower())"
   ]
  },
  {
   "cell_type": "code",
   "execution_count": 3,
   "metadata": {
    "ExecuteTime": {
     "end_time": "2020-04-09T16:00:04.790712Z",
     "start_time": "2020-04-09T16:00:04.663764Z"
    },
    "hidden": true
   },
   "outputs": [
    {
     "ename": "KeyboardInterrupt",
     "evalue": "",
     "output_type": "error",
     "traceback": [
      "\u001b[1;31m---------------------------------------------------------------------------\u001b[0m",
      "\u001b[1;31mKeyboardInterrupt\u001b[0m                         Traceback (most recent call last)",
      "\u001b[1;32m~\\Anaconda3\\lib\\site-packages\\IPython\\core\\async_helpers.py\u001b[0m in \u001b[0;36m_pseudo_sync_runner\u001b[1;34m(coro)\u001b[0m\n\u001b[0;32m     66\u001b[0m     \"\"\"\n\u001b[0;32m     67\u001b[0m     \u001b[1;32mtry\u001b[0m\u001b[1;33m:\u001b[0m\u001b[1;33m\u001b[0m\u001b[1;33m\u001b[0m\u001b[0m\n\u001b[1;32m---> 68\u001b[1;33m         \u001b[0mcoro\u001b[0m\u001b[1;33m.\u001b[0m\u001b[0msend\u001b[0m\u001b[1;33m(\u001b[0m\u001b[1;32mNone\u001b[0m\u001b[1;33m)\u001b[0m\u001b[1;33m\u001b[0m\u001b[1;33m\u001b[0m\u001b[0m\n\u001b[0m\u001b[0;32m     69\u001b[0m     \u001b[1;32mexcept\u001b[0m \u001b[0mStopIteration\u001b[0m \u001b[1;32mas\u001b[0m \u001b[0mexc\u001b[0m\u001b[1;33m:\u001b[0m\u001b[1;33m\u001b[0m\u001b[1;33m\u001b[0m\u001b[0m\n\u001b[0;32m     70\u001b[0m         \u001b[1;32mreturn\u001b[0m \u001b[0mexc\u001b[0m\u001b[1;33m.\u001b[0m\u001b[0mvalue\u001b[0m\u001b[1;33m\u001b[0m\u001b[1;33m\u001b[0m\u001b[0m\n",
      "\u001b[1;32m~\\Anaconda3\\lib\\site-packages\\IPython\\core\\interactiveshell.py\u001b[0m in \u001b[0;36mrun_cell_async\u001b[1;34m(self, raw_cell, store_history, silent, shell_futures)\u001b[0m\n\u001b[0;32m   2986\u001b[0m         \u001b[1;32mif\u001b[0m \u001b[0mstore_history\u001b[0m\u001b[1;33m:\u001b[0m\u001b[1;33m\u001b[0m\u001b[1;33m\u001b[0m\u001b[0m\n\u001b[0;32m   2987\u001b[0m             self.history_manager.store_inputs(self.execution_count,\n\u001b[1;32m-> 2988\u001b[1;33m                                               cell, raw_cell)\n\u001b[0m\u001b[0;32m   2989\u001b[0m         \u001b[1;32mif\u001b[0m \u001b[1;32mnot\u001b[0m \u001b[0msilent\u001b[0m\u001b[1;33m:\u001b[0m\u001b[1;33m\u001b[0m\u001b[1;33m\u001b[0m\u001b[0m\n\u001b[0;32m   2990\u001b[0m             \u001b[0mself\u001b[0m\u001b[1;33m.\u001b[0m\u001b[0mlogger\u001b[0m\u001b[1;33m.\u001b[0m\u001b[0mlog\u001b[0m\u001b[1;33m(\u001b[0m\u001b[0mcell\u001b[0m\u001b[1;33m,\u001b[0m \u001b[0mraw_cell\u001b[0m\u001b[1;33m)\u001b[0m\u001b[1;33m\u001b[0m\u001b[1;33m\u001b[0m\u001b[0m\n",
      "\u001b[1;32m~\\Anaconda3\\lib\\site-packages\\IPython\\core\\history.py\u001b[0m in \u001b[0;36mstore_inputs\u001b[1;34m(self, line_num, source, source_raw)\u001b[0m\n\u001b[0;32m    717\u001b[0m         \u001b[0mself\u001b[0m\u001b[1;33m.\u001b[0m\u001b[0minput_hist_raw\u001b[0m\u001b[1;33m.\u001b[0m\u001b[0mappend\u001b[0m\u001b[1;33m(\u001b[0m\u001b[0msource_raw\u001b[0m\u001b[1;33m)\u001b[0m\u001b[1;33m\u001b[0m\u001b[1;33m\u001b[0m\u001b[0m\n\u001b[0;32m    718\u001b[0m \u001b[1;33m\u001b[0m\u001b[0m\n\u001b[1;32m--> 719\u001b[1;33m         \u001b[1;32mwith\u001b[0m \u001b[0mself\u001b[0m\u001b[1;33m.\u001b[0m\u001b[0mdb_input_cache_lock\u001b[0m\u001b[1;33m:\u001b[0m\u001b[1;33m\u001b[0m\u001b[1;33m\u001b[0m\u001b[0m\n\u001b[0m\u001b[0;32m    720\u001b[0m             \u001b[0mself\u001b[0m\u001b[1;33m.\u001b[0m\u001b[0mdb_input_cache\u001b[0m\u001b[1;33m.\u001b[0m\u001b[0mappend\u001b[0m\u001b[1;33m(\u001b[0m\u001b[1;33m(\u001b[0m\u001b[0mline_num\u001b[0m\u001b[1;33m,\u001b[0m \u001b[0msource\u001b[0m\u001b[1;33m,\u001b[0m \u001b[0msource_raw\u001b[0m\u001b[1;33m)\u001b[0m\u001b[1;33m)\u001b[0m\u001b[1;33m\u001b[0m\u001b[1;33m\u001b[0m\u001b[0m\n\u001b[0;32m    721\u001b[0m             \u001b[1;31m# Trigger to flush cache and write to DB.\u001b[0m\u001b[1;33m\u001b[0m\u001b[1;33m\u001b[0m\u001b[1;33m\u001b[0m\u001b[0m\n",
      "\u001b[1;31mKeyboardInterrupt\u001b[0m: "
     ]
    }
   ],
   "source": [
    "url = \"https://www.pikalytics.com/api/l/2020-03/ss-1760/\"\n",
    "\n",
    "headers = {\n",
    "    \"User-Agent\":\n",
    "    \"Mozilla/5.0 (Windows NT 10.0; Win64; x64) AppleWebKit/537.36 (KHTML, like Gecko) Chrome/79.0.3945.130 Safari/537.36\"\n",
    "}\n",
    "\n",
    "response = requests.get(url, headers=headers)\n",
    "results = response.json()\n",
    "flattened_data = json_normalize(results)\n",
    "percentages_DF = flattened_data"
   ]
  },
  {
   "cell_type": "code",
   "execution_count": null,
   "metadata": {
    "ExecuteTime": {
     "end_time": "2020-04-09T16:00:04.798684Z",
     "start_time": "2020-04-09T16:00:02.618Z"
    },
    "hidden": true
   },
   "outputs": [],
   "source": [
    "percentages_DF[\"name\"]=percentages_DF[\"name\"].str.lower()\n",
    "percentages_DF[\"percent\"]=percentages_DF[\"percent\"].astype(\"float64\")\n",
    "percentages_lower = percentages_DF[[\"name\",\"percent\"]][(percentages_DF[\"percent\"] >=0.01)]"
   ]
  },
  {
   "cell_type": "code",
   "execution_count": null,
   "metadata": {
    "ExecuteTime": {
     "end_time": "2020-04-09T16:00:04.799681Z",
     "start_time": "2020-04-09T16:00:02.621Z"
    },
    "hidden": true
   },
   "outputs": [],
   "source": [
    "pikalitycs_filtered_list = pikalitycs_names_list[0:241]"
   ]
  },
  {
   "cell_type": "code",
   "execution_count": null,
   "metadata": {
    "ExecuteTime": {
     "end_time": "2020-04-09T16:00:04.801679Z",
     "start_time": "2020-04-09T16:00:02.625Z"
    },
    "hidden": true
   },
   "outputs": [],
   "source": [
    "url_part1= \"https://www.pikalytics.com/api/p/2020-03/ss-1760/\"\n",
    "url_list=[url_part1 + string for string in pikalitycs_filtered_list]"
   ]
  },
  {
   "cell_type": "code",
   "execution_count": null,
   "metadata": {
    "ExecuteTime": {
     "end_time": "2020-04-09T16:00:04.802673Z",
     "start_time": "2020-04-09T16:00:02.629Z"
    },
    "hidden": true
   },
   "outputs": [],
   "source": [
    "url_shortlist = ['https://www.pikalytics.com/api/p/2020-03/ss-1760/togekiss',\n",
    " 'https://www.pikalytics.com/api/p/2020-03/ss-1760/incineroar',\n",
    " 'https://www.pikalytics.com/api/p/2020-03/ss-1760/dragapult']"
   ]
  },
  {
   "cell_type": "code",
   "execution_count": null,
   "metadata": {
    "ExecuteTime": {
     "end_time": "2020-04-09T16:00:04.803670Z",
     "start_time": "2020-04-09T16:00:02.632Z"
    },
    "hidden": true
   },
   "outputs": [],
   "source": [
    "url_shortlist"
   ]
  },
  {
   "cell_type": "code",
   "execution_count": null,
   "metadata": {
    "ExecuteTime": {
     "end_time": "2020-04-09T16:00:04.804668Z",
     "start_time": "2020-04-09T16:00:02.635Z"
    },
    "hidden": true
   },
   "outputs": [],
   "source": [
    "json_list = []\n",
    "\n",
    "for url in url_shortlist:\n",
    "    headers = {\"User-Agent\":\n",
    "               \"Mozilla/5.0 (Windows NT 10.0; Win64;x64) AppleWebKit/537.36 (KHTML,like Gecko) Chrome/79.0.3945.130 Safari/537.36\"}\n",
    "    response = requests.get(url, headers=headers)\n",
    "    results = response.json()\n",
    "    flattened_data = json_normalize(results)\n",
    "    percentages_DF = flattened_data\n",
    "    json_list.append(percentages_DF)"
   ]
  },
  {
   "cell_type": "code",
   "execution_count": null,
   "metadata": {
    "ExecuteTime": {
     "end_time": "2020-04-09T16:00:04.806662Z",
     "start_time": "2020-04-09T16:00:02.640Z"
    },
    "hidden": true
   },
   "outputs": [],
   "source": [
    "trial_DF = pd.DataFrame(json_list)"
   ]
  },
  {
   "cell_type": "code",
   "execution_count": null,
   "metadata": {
    "ExecuteTime": {
     "end_time": "2020-04-09T16:00:04.807660Z",
     "start_time": "2020-04-09T16:00:02.644Z"
    },
    "hidden": true
   },
   "outputs": [],
   "source": [
    "trial_DF"
   ]
  },
  {
   "cell_type": "markdown",
   "metadata": {
    "hidden": true
   },
   "source": [
    "### Drop the columns I don't need and clean the remaining information"
   ]
  },
  {
   "cell_type": "code",
   "execution_count": null,
   "metadata": {
    "ExecuteTime": {
     "end_time": "2020-04-09T16:00:04.808676Z",
     "start_time": "2020-04-09T16:00:02.648Z"
    },
    "hidden": true
   },
   "outputs": [],
   "source": [
    "pikalyticsDF = pikalyticsDF.drop([\n",
    "    'abilities', 'raw_count', 'items', 'spreads', 'moves', 'stats.hp',\n",
    "    'stats.atk', 'stats.def', 'stats.spa', 'stats.spd', 'stats.spe', 'ss'\n",
    "],\n",
    "                                 axis=1)"
   ]
  },
  {
   "cell_type": "markdown",
   "metadata": {
    "hidden": true
   },
   "source": [
    "### As I had issues to properly cleaning the column team I will make a copy from it and treat it individually."
   ]
  },
  {
   "cell_type": "code",
   "execution_count": null,
   "metadata": {
    "ExecuteTime": {
     "end_time": "2020-04-09T16:00:04.809667Z",
     "start_time": "2020-04-09T16:00:02.651Z"
    },
    "hidden": true
   },
   "outputs": [],
   "source": [
    "teams = pikalyticsDF[\"team\"].tolist()"
   ]
  },
  {
   "cell_type": "code",
   "execution_count": null,
   "metadata": {
    "ExecuteTime": {
     "end_time": "2020-04-09T16:00:04.810652Z",
     "start_time": "2020-04-09T16:00:02.655Z"
    },
    "hidden": true
   },
   "outputs": [],
   "source": [
    "teamsDF = pd.DataFrame(teams)"
   ]
  },
  {
   "cell_type": "code",
   "execution_count": null,
   "metadata": {
    "ExecuteTime": {
     "end_time": "2020-04-09T16:00:04.812647Z",
     "start_time": "2020-04-09T16:00:02.657Z"
    },
    "hidden": true
   },
   "outputs": [],
   "source": [
    "teamsDF = teamsDF.drop([3, 4, 5, 6, 7, 8, 9, 10, 11], axis=1)"
   ]
  },
  {
   "cell_type": "code",
   "execution_count": null,
   "metadata": {
    "ExecuteTime": {
     "end_time": "2020-04-09T16:00:04.812647Z",
     "start_time": "2020-04-09T16:00:02.660Z"
    },
    "hidden": true
   },
   "outputs": [],
   "source": [
    "teamsDF = teamsDF.rename(\n",
    "    columns={\n",
    "        0: \"Most common teammate\",\n",
    "        1: \"2nd most common teammate\",\n",
    "        2: \"3rd most common teammate\"\n",
    "    })\n",
    "teamsDF.head()"
   ]
  },
  {
   "cell_type": "code",
   "execution_count": null,
   "metadata": {
    "ExecuteTime": {
     "end_time": "2020-04-09T16:00:04.814641Z",
     "start_time": "2020-04-09T16:00:02.663Z"
    },
    "hidden": true
   },
   "outputs": [],
   "source": [
    "teamsDF_First = teamsDF[\"Most common teammate\"].tolist()\n",
    "teamsDF_First = pd.DataFrame(teamsDF_First)\n",
    "teamsDF_First[\"Most common teammate\"] = teamsDF_First[\"pokemon\"].astype(\n",
    "    str) + \" \" + teamsDF_First[\"percent\"].astype(\n",
    "        str) + \"% \" + teamsDF_First[\"types\"].astype(str)\n",
    "teamsDF_First = teamsDF_First.drop([\"pokemon\", \"percent\", \"types\"], axis=1)"
   ]
  },
  {
   "cell_type": "code",
   "execution_count": null,
   "metadata": {
    "ExecuteTime": {
     "end_time": "2020-04-09T16:00:04.815639Z",
     "start_time": "2020-04-09T16:00:02.665Z"
    },
    "hidden": true
   },
   "outputs": [],
   "source": [
    "teamsDF_Second = teamsDF[\"2nd most common teammate\"].tolist()\n",
    "teamsDF_Second = pd.DataFrame(teamsDF_Second)\n",
    "teamsDF_Second[\"2nd most common teammate\"] = teamsDF_Second[\"pokemon\"].astype(\n",
    "    str) + \" \" + teamsDF_Second[\"percent\"].astype(\n",
    "        str) + \"% \" + teamsDF_Second[\"types\"].astype(str)\n",
    "teamsDF_Second = teamsDF_Second.drop([\"pokemon\", \"percent\", \"types\"], axis=1)"
   ]
  },
  {
   "cell_type": "code",
   "execution_count": null,
   "metadata": {
    "ExecuteTime": {
     "end_time": "2020-04-09T16:00:04.816640Z",
     "start_time": "2020-04-09T16:00:02.668Z"
    },
    "hidden": true
   },
   "outputs": [],
   "source": [
    "teamsDF_Third = teamsDF[\"3rd most common teammate\"].tolist()\n",
    "teamsDF_Third = pd.DataFrame(teamsDF_Third)\n",
    "teamsDF_Third[\"3rd most common teammate\"] = teamsDF_Third[\"pokemon\"].astype(\n",
    "    str) + \" \" + teamsDF_Third[\"percent\"].astype(\n",
    "        str) + \"% \" + teamsDF_Third[\"types\"].astype(str)\n",
    "teamsDF_Third = teamsDF_Third.drop([\"pokemon\", \"percent\", \"types\"], axis=1)"
   ]
  },
  {
   "cell_type": "markdown",
   "metadata": {
    "hidden": true
   },
   "source": [
    "### Now I'll create new columns in the original dataset to add the information I wanted from the DF I cleaned separately"
   ]
  },
  {
   "cell_type": "code",
   "execution_count": null,
   "metadata": {
    "ExecuteTime": {
     "end_time": "2020-04-09T16:00:04.817633Z",
     "start_time": "2020-04-09T16:00:02.671Z"
    },
    "hidden": true
   },
   "outputs": [],
   "source": [
    "pikalyticsDF = pikalyticsDF.drop([\"team\"], axis=1)"
   ]
  },
  {
   "cell_type": "code",
   "execution_count": null,
   "metadata": {
    "ExecuteTime": {
     "end_time": "2020-04-09T16:00:04.819628Z",
     "start_time": "2020-04-09T16:00:02.674Z"
    },
    "hidden": true
   },
   "outputs": [],
   "source": [
    "pikalyticsDF[\"Most common teammates\"] = teamsDF_First[\"Most common teammate\"]\n",
    "pikalyticsDF[\"2nd most common teammates\"] = teamsDF_Second[\n",
    "    \"2nd most common teammate\"]\n",
    "pikalyticsDF[\"3rd most common teammates\"] = teamsDF_Third[\n",
    "    \"3rd most common teammate\"]"
   ]
  },
  {
   "cell_type": "code",
   "execution_count": null,
   "metadata": {
    "ExecuteTime": {
     "end_time": "2020-04-09T16:00:04.820626Z",
     "start_time": "2020-04-09T16:00:02.676Z"
    },
    "hidden": true
   },
   "outputs": [],
   "source": [
    "pikalyticsDF.head(5)"
   ]
  },
  {
   "cell_type": "code",
   "execution_count": null,
   "metadata": {
    "ExecuteTime": {
     "end_time": "2020-04-09T16:00:04.821622Z",
     "start_time": "2020-04-09T16:00:02.679Z"
    },
    "hidden": true
   },
   "outputs": [],
   "source": [
    "pikalyticsDF.loc[\n",
    "    pikalyticsDF[\"Most common teammates\"].isnull(),\n",
    "    \"Most common teammates\"] = teamsDF_First[\"Most common teammate\"]\n",
    "pikalyticsDF.loc[\n",
    "    pikalyticsDF[\"2nd most common teammates\"].isnull(),\n",
    "    \"2nd most common teammates\"] = teamsDF_Second[\"2nd most common teammate\"]\n",
    "pikalyticsDF.loc[\n",
    "    pikalyticsDF[\"3rd most common teammates\"].isnull(),\n",
    "    \"3rd most common teammates\"] = teamsDF_Third[\"3rd most common teammate\"]"
   ]
  },
  {
   "cell_type": "markdown",
   "metadata": {
    "hidden": true
   },
   "source": [
    "### Here it is the clean pikalytics dataframe"
   ]
  },
  {
   "cell_type": "code",
   "execution_count": null,
   "metadata": {
    "ExecuteTime": {
     "end_time": "2020-04-09T16:00:04.822621Z",
     "start_time": "2020-04-09T16:00:02.682Z"
    },
    "hidden": true
   },
   "outputs": [],
   "source": [
    "pikalyticsDF.head()"
   ]
  },
  {
   "cell_type": "markdown",
   "metadata": {},
   "source": [
    "## Working On The Web"
   ]
  },
  {
   "cell_type": "markdown",
   "metadata": {},
   "source": [
    "### Getting the needed information from the web"
   ]
  },
  {
   "cell_type": "code",
   "execution_count": null,
   "metadata": {
    "ExecuteTime": {
     "end_time": "2020-04-09T16:00:04.824615Z",
     "start_time": "2020-04-09T16:00:02.686Z"
    }
   },
   "outputs": [],
   "source": [
    "url1 = \"https://www.wikidex.net/wiki/Lista_de_Pok%C3%A9mon_con_sus_estad%C3%ADsticas_base\""
   ]
  },
  {
   "cell_type": "code",
   "execution_count": null,
   "metadata": {
    "ExecuteTime": {
     "end_time": "2020-04-09T16:00:04.825611Z",
     "start_time": "2020-04-09T16:00:02.689Z"
    }
   },
   "outputs": [],
   "source": [
    "html = requests.get(url1).content\n",
    "soup = BeautifulSoup(html, \"lxml\")"
   ]
  },
  {
   "cell_type": "markdown",
   "metadata": {},
   "source": [
    "### Cleaning the data we got and generating a dataframe"
   ]
  },
  {
   "cell_type": "code",
   "execution_count": null,
   "metadata": {
    "ExecuteTime": {
     "end_time": "2020-04-09T16:00:04.828604Z",
     "start_time": "2020-04-09T16:00:02.692Z"
    }
   },
   "outputs": [],
   "source": [
    "table = soup.find_all(\n",
    "    \"table\", {\"class\": \"tabpokemon sortable mergetable tablemanager\"})[0]"
   ]
  },
  {
   "cell_type": "code",
   "execution_count": null,
   "metadata": {
    "ExecuteTime": {
     "end_time": "2020-04-09T16:00:04.830600Z",
     "start_time": "2020-04-09T16:00:02.694Z"
    }
   },
   "outputs": [],
   "source": [
    "rows = table.find_all(\"tr\")\n",
    "rows = [row.text.strip().split(\"\\n\") for row in rows]\n",
    "rows = [list(filter(None, row)) for row in rows]\n",
    "wikidexDF = pd.DataFrame(rows)"
   ]
  },
  {
   "cell_type": "code",
   "execution_count": null,
   "metadata": {
    "ExecuteTime": {
     "end_time": "2020-04-09T16:00:04.832594Z",
     "start_time": "2020-04-09T16:00:02.696Z"
    }
   },
   "outputs": [],
   "source": [
    "wikidexDF.head()"
   ]
  },
  {
   "cell_type": "code",
   "execution_count": null,
   "metadata": {
    "ExecuteTime": {
     "end_time": "2020-04-09T16:00:04.833590Z",
     "start_time": "2020-04-09T16:00:02.699Z"
    }
   },
   "outputs": [],
   "source": [
    "wikidexDF = wikidexDF.drop([11], axis=1)"
   ]
  },
  {
   "cell_type": "code",
   "execution_count": null,
   "metadata": {
    "ExecuteTime": {
     "end_time": "2020-04-09T16:00:04.834588Z",
     "start_time": "2020-04-09T16:00:02.701Z"
    }
   },
   "outputs": [],
   "source": [
    "wikidexDF = wikidexDF.drop([0], axis=0)\n",
    "wikidexDF.head()"
   ]
  },
  {
   "cell_type": "code",
   "execution_count": null,
   "metadata": {
    "ExecuteTime": {
     "end_time": "2020-04-09T16:00:04.836583Z",
     "start_time": "2020-04-09T16:00:02.704Z"
    }
   },
   "outputs": [],
   "source": [
    "colnames = [\n",
    "    \"National Dex #\", \"Pokémon\", \"HP\", \"Attack\", \"Defense\", \"Special Attack\",\n",
    "    \"Special Defense\", \"Speed\", \"Mean\", \"SD\", \"Total\"\n",
    "]\n",
    "\n",
    "wikidexDF = pd.DataFrame(rows[1:], columns=colnames)"
   ]
  },
  {
   "cell_type": "markdown",
   "metadata": {},
   "source": [
    "### Here it is the clean wikidex dataframe"
   ]
  },
  {
   "cell_type": "code",
   "execution_count": null,
   "metadata": {
    "ExecuteTime": {
     "end_time": "2020-04-09T16:00:04.837580Z",
     "start_time": "2020-04-09T16:00:02.709Z"
    }
   },
   "outputs": [],
   "source": [
    "wikidexDF.head()"
   ]
  },
  {
   "cell_type": "markdown",
   "metadata": {
    "heading_collapsed": true
   },
   "source": [
    "## Results"
   ]
  },
  {
   "cell_type": "code",
   "execution_count": null,
   "metadata": {
    "ExecuteTime": {
     "end_time": "2020-04-09T16:00:04.838577Z",
     "start_time": "2020-04-09T16:00:02.713Z"
    },
    "hidden": true
   },
   "outputs": [],
   "source": [
    "pikalyticsDF.to_csv(\n",
    "    \"/Users/Miguel/Documents/GitHub/Ironhack exercises/Modulo 1/project-web/Your-code/Output/pikalyticsDF_clean.csv\"\n",
    ")\n",
    "wikidexDF.to_csv(\n",
    "    \"/Users/Miguel/Documents/GitHub/Ironhack exercises/Modulo 1/project-web/Your-code/Output/wikidexDF_clean.csv\"\n",
    ")"
   ]
  },
  {
   "cell_type": "markdown",
   "metadata": {
    "heading_collapsed": true
   },
   "source": [
    "# Bonus"
   ]
  },
  {
   "cell_type": "markdown",
   "metadata": {
    "hidden": true
   },
   "source": [
    "## Combining Information"
   ]
  },
  {
   "cell_type": "markdown",
   "metadata": {
    "hidden": true
   },
   "source": [
    "### Merging the resulting dataframes"
   ]
  },
  {
   "cell_type": "code",
   "execution_count": null,
   "metadata": {
    "ExecuteTime": {
     "end_time": "2020-04-09T16:00:04.839574Z",
     "start_time": "2020-04-09T16:00:02.718Z"
    },
    "hidden": true
   },
   "outputs": [],
   "source": [
    "Combined_DF = pd.merge(pikalyticsDF,\n",
    "                       wikidexDF,\n",
    "                       left_on=\"name\",\n",
    "                       right_on=\"Pokémon\")"
   ]
  },
  {
   "cell_type": "code",
   "execution_count": null,
   "metadata": {
    "ExecuteTime": {
     "end_time": "2020-04-09T16:00:04.840572Z",
     "start_time": "2020-04-09T16:00:02.721Z"
    },
    "hidden": true
   },
   "outputs": [],
   "source": [
    "Combined_DF.head()"
   ]
  },
  {
   "cell_type": "markdown",
   "metadata": {
    "hidden": true
   },
   "source": [
    "### Drop columns that add no information"
   ]
  },
  {
   "cell_type": "code",
   "execution_count": null,
   "metadata": {
    "ExecuteTime": {
     "end_time": "2020-04-09T16:00:04.841569Z",
     "start_time": "2020-04-09T16:00:02.724Z"
    },
    "hidden": true
   },
   "outputs": [],
   "source": [
    "Combined_DF.columns"
   ]
  },
  {
   "cell_type": "code",
   "execution_count": null,
   "metadata": {
    "ExecuteTime": {
     "end_time": "2020-04-09T16:00:04.843564Z",
     "start_time": "2020-04-09T16:00:02.727Z"
    },
    "hidden": true
   },
   "outputs": [],
   "source": [
    "Combined_DF = Combined_DF.drop(['name', 'Total'], axis=1)\n",
    "Combined_DF.head()"
   ]
  },
  {
   "cell_type": "markdown",
   "metadata": {
    "hidden": true
   },
   "source": [
    "### Reorder columns"
   ]
  },
  {
   "cell_type": "code",
   "execution_count": null,
   "metadata": {
    "ExecuteTime": {
     "end_time": "2020-04-09T16:00:04.844561Z",
     "start_time": "2020-04-09T16:00:02.732Z"
    },
    "hidden": true
   },
   "outputs": [],
   "source": [
    "column_order = [\n",
    "    'National Dex #', 'Pokémon', 'types', 'HP', 'Attack', 'Defense',\n",
    "    'Special Attack', 'Special Defense', 'Speed', 'Mean', 'SD', 'ranking',\n",
    "    'percent', 'viability', 'Most common teammates',\n",
    "    '2nd most common teammates', '3rd most common teammates'\n",
    "]\n",
    "Combined_DF = Combined_DF[column_order]\n",
    "Combined_DF.head()"
   ]
  },
  {
   "cell_type": "markdown",
   "metadata": {
    "hidden": true
   },
   "source": [
    "### Rename columns"
   ]
  },
  {
   "cell_type": "code",
   "execution_count": null,
   "metadata": {
    "ExecuteTime": {
     "end_time": "2020-04-09T16:00:04.846559Z",
     "start_time": "2020-04-09T16:00:02.736Z"
    },
    "hidden": true
   },
   "outputs": [],
   "source": [
    "Combined_DF.columns = [\n",
    "    'National Dex #', 'Pokémon', 'Type', 'Base HP', 'Base Attack',\n",
    "    'Base Defense', 'Base Special Attack', 'Base Special Defense',\n",
    "    'Base Speed', 'Base Stats Mean', 'Base Stats SD', 'VGC 2020 Usage Rank',\n",
    "    'VGC 2020 Usage %', 'Competitive viability', 'Most frequent teammate',\n",
    "    '2nd most frequent teammate', '3rd most frequent teammate'\n",
    "]"
   ]
  },
  {
   "cell_type": "code",
   "execution_count": null,
   "metadata": {
    "ExecuteTime": {
     "end_time": "2020-04-09T16:00:04.847553Z",
     "start_time": "2020-04-09T16:00:02.739Z"
    },
    "hidden": true
   },
   "outputs": [],
   "source": [
    "Combined_DF[\"Base HP\"] = Combined_DF[\"Base HP\"].astype(\"float64\")\n",
    "Combined_DF[\"Base Attack\"] = Combined_DF[\"Base Attack\"].astype(\"float64\")\n",
    "Combined_DF[\"Base Defense\"] = Combined_DF[\"Base Defense\"].astype(\"float64\")\n",
    "Combined_DF[\"Base Special Attack\"] = Combined_DF[\"Base Special Attack\"].astype(\n",
    "    \"float64\")\n",
    "Combined_DF[\"Base Special Defense\"] = Combined_DF[\n",
    "    \"Base Special Defense\"].astype(\"float64\")\n",
    "Combined_DF[\"Base Speed\"] = Combined_DF[\"Base Speed\"].astype(\"float64\")\n",
    "\n",
    "Combined_DF[\"Base Stats Mean\"] = Combined_DF[\"Base Stats Mean\"].str.replace(\n",
    "    ',', '.').astype(float)\n",
    "Combined_DF[\"Base Stats SD\"] = Combined_DF[\"Base Stats SD\"].str.replace(\n",
    "    ',', '.').astype(float)"
   ]
  },
  {
   "cell_type": "markdown",
   "metadata": {
    "hidden": true
   },
   "source": [
    "### This is the resulting combined dataframe"
   ]
  },
  {
   "cell_type": "code",
   "execution_count": null,
   "metadata": {
    "ExecuteTime": {
     "end_time": "2020-04-09T16:00:04.848550Z",
     "start_time": "2020-04-09T16:00:02.743Z"
    },
    "hidden": true
   },
   "outputs": [],
   "source": [
    "Combined_DF.to_csv(\n",
    "    \"/Users/Miguel/Documents/GitHub/Ironhack exercises/Modulo 1/project-web/Your-code/Output/Combined_DF_clean.csv\"\n",
    ")\n",
    "Combined_Styler = Combined_DF.style.hide_index()"
   ]
  },
  {
   "cell_type": "markdown",
   "metadata": {
    "hidden": true
   },
   "source": [
    "## Analyzing"
   ]
  },
  {
   "cell_type": "markdown",
   "metadata": {
    "hidden": true
   },
   "source": [
    "### Look for outliers"
   ]
  },
  {
   "cell_type": "code",
   "execution_count": null,
   "metadata": {
    "ExecuteTime": {
     "end_time": "2020-04-09T16:00:04.849547Z",
     "start_time": "2020-04-09T16:00:02.747Z"
    },
    "hidden": true
   },
   "outputs": [],
   "source": [
    "# We will only consider lower outliers as the upper ones are basically VGC 2020 metagame's core\n",
    "stats = Combined_DF.describe().transpose()\n",
    "stats[\"IQR\"] = stats[\"75%\"] - stats[\"25%\"]\n",
    "outliers = pd.DataFrame(columns=Combined_DF.columns)\n",
    "for col in stats.index:\n",
    "    iqr = stats.at[col, 'IQR']\n",
    "    cutoff = iqr * 1.5\n",
    "    lower = stats.at[col, '25%'] - cutoff\n",
    "    upper = stats.at[col, '75%'] + cutoff\n",
    "    results = Combined_DF[(Combined_DF[col] < lower)].copy()\n",
    "    results['Outlier'] = col\n",
    "    outliers = outliers.append(results)"
   ]
  },
  {
   "cell_type": "code",
   "execution_count": null,
   "metadata": {
    "ExecuteTime": {
     "end_time": "2020-04-09T16:00:04.850545Z",
     "start_time": "2020-04-09T16:00:02.749Z"
    },
    "hidden": true
   },
   "outputs": [],
   "source": [
    "stats"
   ]
  },
  {
   "cell_type": "markdown",
   "metadata": {
    "hidden": true
   },
   "source": [
    "### We clean and manipulate this new \"outliers\" dataframe "
   ]
  },
  {
   "cell_type": "code",
   "execution_count": null,
   "metadata": {
    "ExecuteTime": {
     "end_time": "2020-04-09T16:00:04.851542Z",
     "start_time": "2020-04-09T16:00:02.752Z"
    },
    "hidden": true
   },
   "outputs": [],
   "source": [
    "outliers = outliers.drop([\n",
    "    '2nd most frequent teammate', '3rd most frequent teammate',\n",
    "    'Competitive viability', 'Most frequent teammate', 'National Dex #',\n",
    "    'VGC 2020 Usage Rank'\n",
    "],\n",
    "                         axis=1)"
   ]
  },
  {
   "cell_type": "code",
   "execution_count": null,
   "metadata": {
    "ExecuteTime": {
     "end_time": "2020-04-09T16:00:04.853537Z",
     "start_time": "2020-04-09T16:00:02.754Z"
    },
    "hidden": true
   },
   "outputs": [],
   "source": [
    "column_order = [\n",
    "    'Outlier', 'Pokémon', 'Type', 'Base Attack', 'Base Defense', 'Base HP',\n",
    "    'Base Special Attack', 'Base Special Defense', 'Base Speed',\n",
    "    'Base Stats Mean', 'Base Stats SD', 'VGC 2020 Usage %'\n",
    "]\n",
    "outliers = outliers[column_order]"
   ]
  },
  {
   "cell_type": "markdown",
   "metadata": {
    "hidden": true
   },
   "source": [
    "### Lower outliers = Pokémon that are very rarely used in VGC and we should be careful with"
   ]
  },
  {
   "cell_type": "code",
   "execution_count": null,
   "metadata": {
    "ExecuteTime": {
     "end_time": "2020-04-09T16:00:04.855532Z",
     "start_time": "2020-04-09T16:00:02.757Z"
    },
    "hidden": true
   },
   "outputs": [],
   "source": [
    "outliers.to_csv(\n",
    "    \"/Users/Miguel/Documents/GitHub/Ironhack exercises/Modulo 1/project-web/Your-code/Output/outliers_clean.csv\"\n",
    ")\n",
    "outliers.head()"
   ]
  },
  {
   "cell_type": "markdown",
   "metadata": {
    "hidden": true
   },
   "source": [
    "### Correlation between base stats mean and usage"
   ]
  },
  {
   "cell_type": "code",
   "execution_count": null,
   "metadata": {
    "ExecuteTime": {
     "end_time": "2020-04-09T16:00:04.856530Z",
     "start_time": "2020-04-09T16:00:02.760Z"
    },
    "hidden": true
   },
   "outputs": [],
   "source": [
    "print(Combined_DF[\"VGC 2020 Usage %\"].corr(Combined_DF[\"Base Stats Mean\"]))\n",
    "print(outliers[\"VGC 2020 Usage %\"].corr(outliers[\"Base Stats Mean\"]))"
   ]
  },
  {
   "cell_type": "markdown",
   "metadata": {
    "hidden": true
   },
   "source": [
    "It seems that \"lower\" outliers are more depandant on their base stats mean compared to the population overall but there's little difference so wou shoul try to focus on other variables. I personally think it could be their battle roles, but this information was not in any of the datasets I worked with or that were at least discarded candidates. "
   ]
  },
  {
   "cell_type": "code",
   "execution_count": null,
   "metadata": {
    "hidden": true
   },
   "outputs": [],
   "source": []
  }
 ],
 "metadata": {
  "kernelspec": {
   "display_name": "Python 3",
   "language": "python",
   "name": "python3"
  },
  "language_info": {
   "codemirror_mode": {
    "name": "ipython",
    "version": 3
   },
   "file_extension": ".py",
   "mimetype": "text/x-python",
   "name": "python",
   "nbconvert_exporter": "python",
   "pygments_lexer": "ipython3",
   "version": "3.7.7"
  },
  "varInspector": {
   "cols": {
    "lenName": 16,
    "lenType": 16,
    "lenVar": 40
   },
   "kernels_config": {
    "python": {
     "delete_cmd_postfix": "",
     "delete_cmd_prefix": "del ",
     "library": "var_list.py",
     "varRefreshCmd": "print(var_dic_list())"
    },
    "r": {
     "delete_cmd_postfix": ") ",
     "delete_cmd_prefix": "rm(",
     "library": "var_list.r",
     "varRefreshCmd": "cat(var_dic_list()) "
    }
   },
   "types_to_exclude": [
    "module",
    "function",
    "builtin_function_or_method",
    "instance",
    "_Feature"
   ],
   "window_display": false
  }
 },
 "nbformat": 4,
 "nbformat_minor": 2
}
